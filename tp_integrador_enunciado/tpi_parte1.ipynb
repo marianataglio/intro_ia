{
  "cells": [
    {
      "attachments": {},
      "cell_type": "markdown",
      "id": "07289bb0",
      "metadata": {},
      "source": [
        "# Trabajo integrador - Parte 1\n",
        "## Python y Numpy\n",
        "\n",
        "**Nombre**: Mariana Taglio"
      ]
    },
    {
      "cell_type": "code",
      "execution_count": 1,
      "id": "aaf94e0a",
      "metadata": {
        "id": "aaf94e0a"
      },
      "outputs": [],
      "source": [
        "import numpy as np"
      ]
    },
    {
      "attachments": {},
      "cell_type": "markdown",
      "id": "0ffe9554",
      "metadata": {},
      "source": [
        "## Ejercicio 1\n",
        "\n",
        "Dada una matriz en formato *numpy array*, donde cada fila de la matriz representa un vector matemático, se requiere computar las normas $l_0$, $l_1$, $l_2$, $l_{\\infty}$, según la siguientes definiciones:\n",
        "\n",
        "\\begin{equation}\n",
        "    ||\\mathbf{x}||^{p} = \\bigg(\\sum_{j=1}^{n}{|x_i|^p}\\bigg)^{\\frac{1}{p}}\n",
        "\\end{equation}\n",
        "\n",
        "con los casos especiales para $p=0$ y $p=\\infty$ siendo:\n",
        "\n",
        "\\begin{equation}\n",
        "    \\begin{array}{rcl}\n",
        "        ||\\mathbf{x}||_0 & = & \\bigg(\\sum_{j=1 \\wedge x_j != 0}{|x_i|}\\bigg)\\\\\n",
        "        ||\\mathbf{x}||_{\\infty} & = & \\max_{i}{|x_i|}\\\\\n",
        "    \\end{array}\n",
        "\\end{equation}"
      ]
    },
    {
      "cell_type": "code",
      "execution_count": 7,
      "id": "0bdb0ee3",
      "metadata": {},
      "outputs": [
        {
          "name": "stdout",
          "output_type": "stream",
          "text": [
            "Norma l1: [10 26 42]\n",
            "Norma l2: [ 5.47722558 13.19090596 21.11871208]\n",
            "Norma l0: [4 4 4]\n",
            "Norma inf: [ 4  8 12]\n"
          ]
        }
      ],
      "source": [
        "# Creo una matriz con numpy\n",
        "\n",
        "m = np.array([[1,2,3,4],\n",
        "              [5,6,7,8],\n",
        "              [9,10,11,12]])\n",
        "\n",
        "# Computo norma l1, suma de los valores absolutos de los elemntos del vector\n",
        "norma_l1 = np.sum(np.abs(m), axis=1)\n",
        "print(\"Norma l1:\", norma_l1)\n",
        "\n",
        "# Computo norma l2, la raiz cuadrada de la suma de los cuadrados de los elementos del vector\n",
        "norma_l2 = np.sqrt(np.sum(m**2, axis=1))\n",
        "print(\"Norma l2:\", norma_l2)\n",
        "\n",
        "# Computo norma l0, elementos diferentes a 0 de un vector\n",
        "norma_l0 = np.count_nonzero(m, axis=1)\n",
        "print(\"Norma l0:\", norma_l0)\n",
        "\n",
        "# Computo norma l_inf, maximo valor absoluto de los elementos del vector\n",
        "norma_inf = np.max(np.abs(m), axis=1)\n",
        "print(\"Norma inf:\", norma_inf)"
      ]
    },
    {
      "attachments": {},
      "cell_type": "markdown",
      "id": "dd66d862",
      "metadata": {},
      "source": [
        "## Ejercicio 2\n",
        "\n",
        "En clasificación contamos con dos arreglos, la “verdad” y la “predicción”. Cada elemento de los arreglos pueden tomar dos valores, “True” (representado por 1) y “False” (representado por 0). Entonces podemos definir 4 variables:\n",
        "\n",
        "* True Positive (TP): El valor verdadero es 1 y el valor predicho es 1\n",
        "* True Negative (TN): El valor verdadero es 0 y el valor predicho es 0\n",
        "* False Positive (FP): El valor verdadero es 0 y el valor predicho es 1\n",
        "* False Negative (FN): El valor verdadero es 1 y el valor predicho es 0\n",
        "\n",
        "A partir de esto definimos:\n",
        "\n",
        "* Precision = TP / (TP + FP)\n",
        "* Recall = TP / (TP + FN)\n",
        "* Accuracy = (TP + TN) / (TP + TN + FP + FN)\n",
        " \n",
        "Calcular las 3 métricas con Numpy y operaciones vectorizadas."
      ]
    },
    {
      "cell_type": "code",
      "execution_count": 23,
      "id": "794dcd58",
      "metadata": {},
      "outputs": [],
      "source": [
        "truth = np.array([1,1,0,1,1,1,0,0,0,1])\n",
        "prediction = np.array([1,1,1,1,0,0,1,1,0,0])\n",
        "\n",
        "tp = np.sum((truth == 1) & (prediction==1))\n",
        "tn = np.sum((truth == 0) & (prediction==0))\n",
        "fp = np.sum((truth == 0) & (prediction==1))\n",
        "fn = np.sum((truth == 1) & (prediction==0))"
      ]
    },
    {
      "cell_type": "code",
      "execution_count": 34,
      "id": "70b7f66a",
      "metadata": {},
      "outputs": [
        {
          "name": "stdout",
          "output_type": "stream",
          "text": [
            "Precision: 0.5\n",
            "Recall: 0.5\n",
            "Accuracy: 0.4\n"
          ]
        }
      ],
      "source": [
        "# Precision\n",
        "if tp + fp > 0:\n",
        "    precision = tp / (tp + fp)\n",
        "else:\n",
        "    precision = 0.0\n",
        "print(\"Precision:\", precision)\n",
        "\n",
        "# Recall\n",
        "if tp + fn > 0:\n",
        "    recall =  tp / (tp + fn)\n",
        "else:\n",
        "    recall = 0.0\n",
        "print(\"Recall:\", recall)\n",
        "\n",
        "# Accuracy\n",
        "if (tp + tn + fp + fn) > 0:\n",
        "    accuracy = (tp + tn) / (tp + tn + fp + fn)\n",
        "else:\n",
        "    accuracy = 0.0\n",
        "print(\"Accuracy:\", accuracy)"
      ]
    },
    {
      "attachments": {},
      "cell_type": "markdown",
      "id": "d0ac6f6f",
      "metadata": {},
      "source": [
        "## Ejercicio 3\n",
        "\n",
        "Crear una función que separe los datos en train-validation-test. Debe recibir de parametros:\n",
        "\n",
        "- X: Array o Dataframe que contiene los datos de entrada del sistema.\n",
        "- y: Array o Dataframe que contiene la(s) variable(s) target del problema.\n",
        "- train_percentage: _float_ el porcentaje de training.\n",
        "- test_percentage: _float_ el porcentaje de testing.\n",
        "- val_percentage: _float_ el porcentaje de validación.\n",
        "- shuffle: _bool_ determina si el split debe hacerse de manera random o no.\n",
        "\n",
        "Hints: \n",
        "\n",
        "* Usar Indexing y slicing\n",
        "* Usar np.random.[...]"
      ]
    },
    {
      "cell_type": "code",
      "execution_count": 72,
      "id": "ca85fc66",
      "metadata": {},
      "outputs": [],
      "source": [
        "def split(X_input, \n",
        "          Y_input, \n",
        "          train_size=0.7, \n",
        "          val_size=0.15, \n",
        "          test_size=0.15, \n",
        "          random_state=42, \n",
        "          shuffle=True):\n",
        "      \n",
        "      input_size = len(X_input)\n",
        "\n",
        "      # Genero los indices        \n",
        "      indices = np.arange(input_size)\n",
        "      if shuffle == True:\n",
        "            np.random.shuffle(indices)\n",
        "\n",
        "      # Calculo size de train y val sets y casteo a int\n",
        "      train_size =int(input_size * train_size)\n",
        "      val_size = int(input_size * val_size)\n",
        "      test_size = int(input_size * test_size)\n",
        "\n",
        "      train_index = indices[:train_size]\n",
        "      val_index = indices[train_size:train_size + val_size]\n",
        "      test_index = indices[train_size + val_size:train_size + val_size + test_size]\n",
        "\n",
        "      X_train, Y_train = X_input[train_index], Y_input[train_index]\n",
        "      X_val, Y_val = X_input[val_index], Y_input[val_index]\n",
        "      X_test, Y_test = X_input[test_index], Y_input[test_index]\n",
        "      \n",
        "      return (X_train, Y_train), (X_val, Y_val), (X_test, Y_test)"
      ]
    },
    {
      "cell_type": "code",
      "execution_count": 71,
      "id": "e7dc46a4",
      "metadata": {},
      "outputs": [
        {
          "name": "stdout",
          "output_type": "stream",
          "text": [
            "Training set: 6\n",
            "Validation set: 2\n",
            "Test set: 1\n"
          ]
        }
      ],
      "source": [
        "# Testing\n",
        "\n",
        "X = np.array([[1, 2], [3, 4], [5, 6], [7, 8], [9, 10], [11, 12], [13, 10], [14, 15], [17, 18], [19, 20]])\n",
        "y = np.array([0, 1, 0, 1, 0, 1, 1, 1, 0, 1])\n",
        "\n",
        "(X_train, y_train), (X_val, y_val), (X_test, y_test) = split(X, y, train_size=0.6, val_size=0.25, test_size=0.15, shuffle=True)\n",
        "\n",
        "print(\"Training set:\", len(X_train))\n",
        "print(\"Validation set:\", len(X_val))\n",
        "print(\"Test set:\", len(X_test))"
      ]
    },
    {
      "cell_type": "code",
      "execution_count": null,
      "id": "c08d5be6",
      "metadata": {},
      "outputs": [],
      "source": []
    }
  ],
  "metadata": {
    "colab": {
      "collapsed_sections": [],
      "name": "Practica_clase_3.ipynb",
      "provenance": []
    },
    "kernelspec": {
      "display_name": "Python 3.9.7 ('base')",
      "language": "python",
      "name": "python3"
    },
    "language_info": {
      "codemirror_mode": {
        "name": "ipython",
        "version": 3
      },
      "file_extension": ".py",
      "mimetype": "text/x-python",
      "name": "python",
      "nbconvert_exporter": "python",
      "pygments_lexer": "ipython3",
      "version": "3.9.7"
    },
    "vscode": {
      "interpreter": {
        "hash": "40c82f114804a1480aeb27a3c6f7ad070b7bcba24ac6951971befad3bfd46cb3"
      }
    }
  },
  "nbformat": 4,
  "nbformat_minor": 5
}
