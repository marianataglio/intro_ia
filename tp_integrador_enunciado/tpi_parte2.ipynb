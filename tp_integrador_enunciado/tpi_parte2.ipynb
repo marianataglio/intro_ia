{
  "cells": [
    {
      "attachments": {},
      "cell_type": "markdown",
      "id": "07289bb0",
      "metadata": {},
      "source": [
        "# Trabajo integrador - Parte 2"
      ]
    },
    {
      "cell_type": "markdown",
      "id": "42989be4",
      "metadata": {},
      "source": [
        "# Aprendizaje Supervisado\n",
        "\n",
        "**Nombre**:"
      ]
    },
    {
      "cell_type": "markdown",
      "id": "8387800e",
      "metadata": {},
      "source": [
        "## Problema de regresión"
      ]
    },
    {
      "attachments": {},
      "cell_type": "markdown",
      "id": "dc5e74de",
      "metadata": {},
      "source": [
        "Para la creación de los datasets y la manipulación de los mismos vamos a trabajar directamente con dos módulos includios en la carpeta utils.\n",
        "\n",
        "En esta podemos encontrar:\n",
        " - generate_data: Esta función wrappea el método de _make_regression_ de scikit learn para devolver un dataframe con un problema de regresión basado en sus parámetros.\n",
        " - generate_outliers: Esta función genera outliers livianos y pesados en función de los parámetros que le demos de entrada."
      ]
    },
    {
      "cell_type": "code",
      "execution_count": null,
      "id": "1a033541",
      "metadata": {},
      "outputs": [],
      "source": [
        "from utils.data_generation import generate_dataset\n",
        "from utils.data_manipulation import generate_outliers"
      ]
    },
    {
      "cell_type": "markdown",
      "id": "abc333db",
      "metadata": {},
      "source": [
        "### Ejemplo de uso"
      ]
    },
    {
      "cell_type": "code",
      "execution_count": null,
      "id": "a902d24a",
      "metadata": {},
      "outputs": [],
      "source": [
        "import pandas as pd\n",
        "import numpy as np\n",
        "import seaborn as sns\n",
        "import matplotlib.pyplot as plt"
      ]
    },
    {
      "cell_type": "code",
      "execution_count": null,
      "id": "fee49e6b",
      "metadata": {},
      "outputs": [],
      "source": [
        "## Vamos a crear un dataset primero.\n",
        "\n",
        "data = generate_dataset(\n",
        "    n_samples=1000,\n",
        "    n_features=5,\n",
        "    n_informative=2,\n",
        "    n_targets=1,\n",
        "    noise=0,\n",
        "    output='dataframe'\n",
        ")\n",
        "\n",
        "## esto nos genera un dataset que contiene 5 features, 2 de los cuales son informativos, y 1 target.\n",
        "\n",
        "data.head()"
      ]
    },
    {
      "cell_type": "code",
      "execution_count": null,
      "id": "7c0df0dd",
      "metadata": {},
      "outputs": [],
      "source": [
        "## vamos a visualizar estas variables\n",
        "## creamos una figura de matplotlib que contenga 5 subplots, uno por cada feature:\n",
        "\n",
        "fig, axes = plt.subplots(1, 5, figsize=(20, 5))\n",
        "\n",
        "## Creamos un loop para iterar sobre cada feature y graficar la regresión lineal entre cada feature y el target:\n",
        "\n",
        "for i, feature in enumerate(data.columns[:-1]):\n",
        "    sns.regplot(x=feature,\n",
        "                y='target',\n",
        "                data=data,\n",
        "                ax=axes[i],\n",
        "                scatter_kws={'alpha': 0.4},\n",
        "                line_kws={'color': 'red'},\n",
        "                ci=95)\n",
        "    \n"
      ]
    },
    {
      "cell_type": "markdown",
      "id": "ba9d4947",
      "metadata": {},
      "source": [
        "Ahora agregamos _outliers_ a un nuevo dataset"
      ]
    },
    {
      "cell_type": "code",
      "execution_count": null,
      "id": "2fcec748",
      "metadata": {},
      "outputs": [],
      "source": [
        "data = generate_dataset(\n",
        "    n_samples=1000,\n",
        "    n_features=1,\n",
        "    n_informative=1,\n",
        "    n_targets=1,\n",
        "    noise=0,\n",
        "    output='dataframe'\n",
        ")\n"
      ]
    },
    {
      "cell_type": "code",
      "execution_count": null,
      "id": "1f706cc4",
      "metadata": {},
      "outputs": [],
      "source": [
        "do1 = generate_outliers(\n",
        "    df=data,\n",
        "    columns=['x0'],\n",
        "    percentage=0.01,\n",
        "    extreme_outliers=False,\n",
        "    only_tails=False,\n",
        ")\n",
        "do2 = generate_outliers(\n",
        "    df=data,\n",
        "    columns=['x0'],\n",
        "    percentage=0.01,\n",
        "    extreme_outliers=False,\n",
        "    only_tails=True,\n",
        "    two_tailed=True,\n",
        ")\n",
        "do3 = generate_outliers(\n",
        "    df=data,\n",
        "    columns=['x0'],\n",
        "    percentage=0.01,\n",
        "    extreme_outliers=False,\n",
        "    only_tails=True,\n",
        "    two_tailed=False,\n",
        ")"
      ]
    },
    {
      "cell_type": "code",
      "execution_count": null,
      "id": "37444567",
      "metadata": {},
      "outputs": [],
      "source": [
        "## vamos a visualizar estas los distintos datasets\n",
        "\n",
        "fig, axes = plt.subplots(1, 4, figsize=(20, 5))\n",
        "\n",
        "sns.regplot(x='x0',\n",
        "            y='target',\n",
        "            data=data,\n",
        "            ax=axes[0],\n",
        "            scatter_kws={'alpha': 0.4},\n",
        "            line_kws={'color': 'red'},\n",
        "            ci=95)\n",
        "axes[0].set_title('Original')\n",
        "\n",
        "sns.regplot(x='x0',\n",
        "            y='target',\n",
        "            data=do1,\n",
        "            ax=axes[1],\n",
        "            scatter_kws={'alpha': 0.4},\n",
        "            line_kws={'color': 'red'},\n",
        "            ci=95)\n",
        "axes[1].set_title('Outliers')\n",
        "\n",
        "sns.regplot(x='x0',\n",
        "            y='target',\n",
        "            data=do2,\n",
        "            ax=axes[2],\n",
        "            scatter_kws={'alpha': 0.4},\n",
        "            line_kws={'color': 'red'},\n",
        "            ci=95)\n",
        "axes[2].set_title('Outliers (two-tailed)')\n",
        "\n",
        "sns.regplot(x='x0',\n",
        "            y='target',\n",
        "            data=do3,\n",
        "            ax=axes[3],\n",
        "            scatter_kws={'alpha': 0.4},\n",
        "            line_kws={'color': 'red'},\n",
        "            ci=95)\n",
        "axes[3].set_title('Outliers (one-tailed)')\n"
      ]
    },
    {
      "cell_type": "code",
      "execution_count": null,
      "id": "0fcda0e3",
      "metadata": {},
      "outputs": [],
      "source": [
        "## y si lo queremos con mucho mas outliers?\n",
        "\n",
        "doe = generate_outliers(\n",
        "    df=data,\n",
        "    columns=['x0'],\n",
        "    percentage=0.1,\n",
        "    extreme_outliers=True)\n",
        "\n",
        "## vamos a visualizar este caso\n",
        "\n",
        "fig, axes = plt.subplots(1, 2, figsize=(20, 5))\n",
        "\n",
        "sns.regplot(x='x0',\n",
        "            y='target',\n",
        "            data=data,\n",
        "            ax=axes[0],\n",
        "            scatter_kws={'alpha': 0.4},\n",
        "            line_kws={'color': 'red'},\n",
        "            ci=95)\n",
        "axes[0].set_title('Original')\n",
        "\n",
        "sns.regplot(x='x0',\n",
        "            y='target',\n",
        "            data=doe,\n",
        "            ax=axes[1],\n",
        "            scatter_kws={'alpha': 0.4},\n",
        "            line_kws={'color': 'red'},\n",
        "            ci=95)\n",
        "axes[1].set_title('Outliers')\n"
      ]
    },
    {
      "attachments": {},
      "cell_type": "markdown",
      "id": "2734dfde",
      "metadata": {},
      "source": [
        "## Ejercicio 4"
      ]
    },
    {
      "attachments": {},
      "cell_type": "markdown",
      "id": "44621118",
      "metadata": {},
      "source": [
        "Utilizando la funcion `generate_data` generar un problema de regresión multivariada en el cual cuente con N variables informativas y M variables no informativas.\n",
        "\n",
        "Ejemplo:\n",
        "```python\n",
        "data = generate_dataset(n_samples=1000,\n",
        "                    n_features=10,\n",
        "                    n_informative=5,\n",
        "                    n_targets=1,\n",
        "                    noise=20.0,\n",
        "                    random_state=42,\n",
        "                    output='dataframe')\n",
        "\n",
        "```\n",
        "\n",
        "Dado un valor de _noise_ fijo, sin fijar _random_state_ (para poder asegurarnos\n",
        "que los datos que generamos son distintos) realizaremos 100 simulaciones de este dataset.\n",
        "\n",
        "En la simulación deberemos generar el dataset, hacer una división de train-test, ajustar\n",
        "un modelo de regresión lineal multivariada y validar el mismo.\n",
        "\n",
        "En cada iteración de esta simulación debemos guardar:\n",
        "\n",
        "- Los coeficientes de la regresión.\n",
        "- El RMSE de train y test.\n",
        "- El MAE de train y test. \n",
        "\n",
        "\n",
        "> Qué pasa con los coeficientes de las variables no informativas? La regresión se ve afectada por estas variables?\n",
        "> ***HINT:*** Utilice las distribuciones de los coeficientes para analizar y test de hipótesis para sacar conclusiones."
      ]
    },
    {
      "cell_type": "code",
      "execution_count": 157,
      "id": "eaa01488",
      "metadata": {},
      "outputs": [],
      "source": [
        "import numpy as np\n",
        "from tqdm import tqdm\n",
        "from sklearn.metrics import mean_absolute_error, mean_absolute_error\n",
        "from sklearn.linear_model import LinearRegression"
      ]
    },
    {
      "cell_type": "code",
      "execution_count": 158,
      "id": "4df91762",
      "metadata": {},
      "outputs": [],
      "source": [
        "## Parámetros de la simulación\n",
        "n_exp = 1000\n",
        "n_samples = 1000\n",
        "n_features = 10\n",
        "n_informative = 2\n",
        "n_targets = 1\n",
        "\n",
        "noise = np.linspace(0, 100, 100)\n",
        "bias = np.linspace(0, 100, 20)"
      ]
    },
    {
      "cell_type": "code",
      "execution_count": 160,
      "id": "08e0cf86",
      "metadata": {},
      "outputs": [
        {
          "name": "stderr",
          "output_type": "stream",
          "text": [
            "  0%|          | 4/1000 [00:45<3:08:58, 11.38s/it]"
          ]
        }
      ],
      "source": [
        "## Esqueleto de la simulación\n",
        "\n",
        "results = []\n",
        "for _ in tqdm(range(n_exp)):\n",
        "    for b in bias:\n",
        "        for n in noise:\n",
        "            data = generate_dataset(\n",
        "                n_samples=n_samples,\n",
        "                n_features=n_features,\n",
        "                n_informative=n_informative,\n",
        "                n_targets=n_targets,\n",
        "                noise=n,\n",
        "                bias=b,\n",
        "                output='dataframe'\n",
        "            )\n",
        "            # Train test split\n",
        "            X = data.drop('target', axis=1)\n",
        "            y = data['target']\n",
        "            X_train, X_test, y_train, y_test = train_test_split(X, y, test_size=0.2)\n",
        "\n",
        "            model = LinearRegression()\n",
        "            model.fit(X_train, y_train)\n",
        "            coeficientes = model.coef_\n",
        "\n",
        "            # Valido predicciones en train y test\n",
        "            y_train_pred = model.predict(X_train)\n",
        "            y_test_pred = model.predict(X_test)\n",
        "\n",
        "            # RMSE y MAE\n",
        "            rmse_train = np.sqrt(mean_squared_error(y_train, y_train_pred))\n",
        "            rmse_test = np.sqrt(mean_squared_error(y_test, y_test_pred))\n",
        "\n",
        "            mae_train = mean_absolute_error(y_train, y_train_pred)\n",
        "            mae_test = mean_absolute_error(y_test, y_test_pred)\n",
        "\n",
        "            # Results\n",
        "            results.append({\n",
        "                'Coeficientes': coeficientes,\n",
        "                'RMSE_train': rmse_train,\n",
        "                'RMSE_test': rmse_test,\n",
        "                'MAE_train': mae_train,\n",
        "                'MAE_test': mae_test \n",
        "            })\n",
        "      \n",
        "results_df = pd.DataFrame(results)\n",
        "print(results_df.head())\n"
      ]
    },
    {
      "cell_type": "markdown",
      "id": "3edbda19",
      "metadata": {},
      "source": [
        "> Qué pasa con los coeficientes de las variables no informativas? La regresión se ve afectada por estas variables?\n",
        "> ***HINT:*** Utilice las distribuciones de los coeficientes para analizar y test de hipótesis para sacar conclusiones."
      ]
    },
    {
      "cell_type": "markdown",
      "id": "5772f3b8",
      "metadata": {},
      "source": [
        "## Ejercicio 5"
      ]
    },
    {
      "attachments": {},
      "cell_type": "markdown",
      "id": "ad2f9ee6",
      "metadata": {},
      "source": [
        "\n",
        "Utilizando la funcion `generate_outliers` generar puntos extremos dentro de los datos que generamos anteriormente. En este ejercicio dejar setteado `extreme_outliers` como `False` y observe como variando el porcentaje de los mismos la regresión comienza a afectarse.\n",
        "\n",
        "Pasos:\n",
        "\n",
        "1. Generamos un dataset de regresion lineal simple (1 feature y 1 target value) con `noise` fijo en 0.5.\n",
        "2. Generamos outliers fijando `extreme_outliers`.\n",
        "2. Probar los distintos regresores a ver como se comportan frente a estos datasets anómalos.\n",
        "3. Simular con multiples porcentajes de outliers (desde 1% hasta 10%). Qué pasa con los modelos?\n",
        "\n",
        "Los modelos a utilizar en este problema son:\n",
        "\n",
        "    - Regresion Lineal simple\n",
        "    - Regresion de Huber\n",
        "    - Regresión Ridge"
      ]
    },
    {
      "cell_type": "code",
      "execution_count": null,
      "id": "82a019af",
      "metadata": {},
      "outputs": [],
      "source": [
        "from sklearn.linear_model import LinearRegression, HuberRegressor, RidgeCV"
      ]
    },
    {
      "cell_type": "markdown",
      "id": "be7e8c85",
      "metadata": {},
      "source": [
        "## Problema de Clasificación"
      ]
    },
    {
      "cell_type": "markdown",
      "id": "53495bd5",
      "metadata": {},
      "source": [
        "### Ejercicio 6"
      ]
    },
    {
      "cell_type": "markdown",
      "id": "e9639ca5",
      "metadata": {},
      "source": [
        "En este ejercicio vamos a jugar un poco con descenso de gradiente. Para esto consideremos lo visto en clase que es el problema de regresión.\n",
        "\n",
        "Como paso inicial, vamos a sacarnos de encima la parte teórica. Recordemos que partimos del siguiente modelo\n",
        "\n",
        "$$\n",
        "y = \\beta_0 + \\beta_1 \\cdot x\n",
        "$$\n",
        "\n",
        "En este caso nuestra función objetivo a optimizar será:\n",
        "\n",
        "$$\n",
        "MSE = ||y-\\hat{y}||^2\n",
        "$$\n"
      ]
    },
    {
      "cell_type": "markdown",
      "id": "6deb44f7",
      "metadata": {},
      "source": [
        "Para calcular el gradiente de la función de error cuadrático medio (MSE) con respecto a los parámetros $\\beta_0$ y $\\beta_1$, es útil primero expresar la función de coste de forma más explicita. Dado que $\\hat{y} = \\beta_0 + \\beta_1 \\cdot x$, podemos reescribir la función MSE como sigue:\n",
        "\n",
        "$$\n",
        "MSE(\\beta_0, \\beta_1) = \\frac{1}{N} \\sum_{i=1}^{N} (y_i - \\beta_0 - \\beta_1 \\cdot x_i)^2\n",
        "$$\n",
        "\n",
        "Aquí, $N$ es el número de observaciones en el conjunto de datos y $y_i$ y $x_i$ son el valor observado y el valor de la característica correspondiente para la i-ésima observación.\n",
        "\n",
        "El gradiente de la función de coste está compuesto por las derivadas parciales de la función de coste con respecto a cada uno de los parámetros. Así, el gradiente es un vector de la forma:\n",
        "\n",
        "$$\n",
        "\\nabla MSE(\\beta_0, \\beta_1) = \\left[ \\frac{\\partial MSE}{\\partial \\beta_0}, \\frac{\\partial MSE}{\\partial \\beta_1} \\right]\n",
        "$$\n",
        "\n",
        "Las derivadas parciales se pueden calcular como sigue:\n",
        "\n",
        "$$\n",
        "\\frac{\\partial MSE}{\\partial \\beta_0} = \\frac{-2}{N} \\sum_{i=1}^{N} (y_i - \\beta_0 - \\beta_1 \\cdot x_i)\n",
        "$$\n",
        "\n",
        "$$\n",
        "\\frac{\\partial MSE}{\\partial \\beta_1} = \\frac{-2}{N} \\sum_{i=1}^{N} x_i \\cdot (y_i - \\beta_0 - \\beta_1 \\cdot x_i)\n",
        "$$\n",
        "\n",
        "Así que finalmente tenemos:\n",
        "\n",
        "$$\n",
        "\\nabla MSE(\\beta_0, \\beta_1) = \\left[ \\frac{-2}{N} \\sum_{i=1}^{N} (y_i - \\beta_0 - \\beta_1 \\cdot x_i), \\frac{-2}{N} \\sum_{i=1}^{N} x_i \\cdot (y_i - \\beta_0 - \\beta_1 \\cdot x_i) \\right]\n",
        "$$\n",
        "\n",
        "El cálculo del gradiente se usa en el descenso de gradiente para actualizar los parámetros $\\beta_0$ y $\\beta_1$ en cada iteración, en dirección opuesta al gradiente, para minimizar la función de coste.\n",
        "\n",
        "Estos cálculos se pueden implementar en código Python de la siguiente manera:\n",
        "\n",
        "```python\n",
        "def gradient(X, y, beta0, beta1):\n",
        "    N = len(y)\n",
        "    y_hat = beta0 + beta1 * X\n",
        "\n",
        "    d_beta0 = (-2/N) * np.sum(y - y_hat)\n",
        "    d_beta1 = (-2/N) * np.sum(X * (y - y_hat))\n",
        "\n",
        "    return d_beta0, d_beta1\n",
        "```"
      ]
    },
    {
      "cell_type": "markdown",
      "id": "8ce7dee2",
      "metadata": {},
      "source": [
        "Ahora, si quisieramos realizar esto de manera matricial, podemos hacer lo siguiente:\n",
        "\n",
        "Primero, necesitamos cambiar la representación de nuestros datos. Podemos agregar un vector de unos a nuestra matriz de características para representar el término de intersección $\\beta_0$. De esta manera, $X$ toma esta forma:\n",
        "\n",
        "$$\n",
        "X = \\begin{bmatrix}\n",
        "1 & x_1 \\\\\n",
        "1 & x_2 \\\\\n",
        "\\vdots & \\vdots \\\\\n",
        "1 & x_N \\\\\n",
        "\\end{bmatrix}\n",
        "$$\n",
        "\n",
        "Y nuestro vector de parámetros $\\theta$ se verá así:\n",
        "\n",
        "$$\n",
        "\\theta = \\begin{bmatrix}\n",
        "\\beta_0 \\\\\n",
        "\\beta_1 \\\\\n",
        "\\end{bmatrix}\n",
        "$$\n",
        "\n",
        "Entonces, nuestra predicción $\\hat{y}$ se calcula como $X\\theta$:\n",
        "\n",
        "$$\n",
        "\\hat{y} = X\\theta = \\begin{bmatrix}\n",
        "1 & x_1 \\\\\n",
        "1 & x_2 \\\\\n",
        "\\vdots & \\vdots \\\\\n",
        "1 & x_N \\\\\n",
        "\\end{bmatrix} \\cdot \\begin{bmatrix}\n",
        "\\beta_0 \\\\\n",
        "\\beta_1 \\\\\n",
        "\\end{bmatrix}\n",
        "$$\n",
        "\n",
        "Nuestra función de coste MSE se ve de la siguiente manera en forma matricial:\n",
        "\n",
        "$$\n",
        "MSE(\\theta) = \\frac{1}{N} (y - X\\theta)^T (y - X\\theta)\n",
        "$$\n",
        "\n",
        "Las derivadas parciales de esta función de coste con respecto a los parámetros se pueden calcular de la siguiente manera:\n",
        "\n",
        "$$\n",
        "\\frac{\\partial MSE}{\\partial \\theta} = \\frac{-2}{N} X^T (y - X\\theta)\n",
        "$$"
      ]
    },
    {
      "cell_type": "markdown",
      "id": "4c4a59fb",
      "metadata": {},
      "source": [
        "\n",
        "Esto se puede implementar en Python de la siguiente manera:"
      ]
    },
    {
      "cell_type": "code",
      "execution_count": 34,
      "id": "b7ac568e",
      "metadata": {},
      "outputs": [],
      "source": [
        "def gradient(X: np.ndarray, y: np.ndarray, theta: np.ndarray) -> np.ndarray:\n",
        "    \"\"\"\n",
        "    Esta función calcula el gradiente de la función de coste del error cuadrático medio (MSE)\n",
        "    para una regresión lineal simple. La función toma como entrada la matriz de características X,\n",
        "    el vector de observaciones y y el vector de parámetros theta, y devuelve el gradiente, que\n",
        "    es un vector de las mismas dimensiones que theta.\n",
        "\n",
        "    Params:\n",
        "    X : numpy.ndarray\n",
        "        La matriz de características extendida que incluye un vector de unos. De tamaño (N, d),\n",
        "        donde N es el número de observaciones y d es el número de características (incluyendo el\n",
        "        término de intersección).\n",
        "\n",
        "    y : numpy.ndarray\n",
        "        El vector de observaciones. De tamaño (N,), donde N es el número de observaciones.\n",
        "\n",
        "    theta : numpy.ndarray\n",
        "        El vector de parámetros. De tamaño (d,), donde d es el número de características\n",
        "        (incluyendo el término de intersección).\n",
        "\n",
        "    Returns:\n",
        "    grad : numpy.ndarray\n",
        "        El gradiente de la función de coste. Un vector de las mismas dimensiones que theta.\n",
        "\n",
        "    Examples:\n",
        "    >>> X = np.array([[1, 1], [1, 2], [1, 3]])\n",
        "    >>> y = np.array([2, 3, 4])\n",
        "    >>> theta = np.array([0, 0])\n",
        "    >>> gradient(X, y, theta)\n",
        "    array([-4., -8.])\n",
        "    \"\"\"\n",
        "    N = len(y)\n",
        "    y_hat = X.dot(theta)\n",
        "\n",
        "    grad = (-2 / N) * X.T.dot(y - y_hat)\n",
        "\n",
        "    return grad"
      ]
    },
    {
      "cell_type": "markdown",
      "id": "e1ef2b1d",
      "metadata": {},
      "source": [
        "\n",
        "Aquí, `X` es la matriz de características extendida que incluye un vector de unos, `y` es el vector de observaciones, y `theta` es el vector de parámetros. La función devuelve el gradiente, que es un vector de las mismas dimensiones que `theta`."
      ]
    },
    {
      "cell_type": "markdown",
      "id": "0885fd5a",
      "metadata": {},
      "source": [
        "#### Gradiente Descendente"
      ]
    },
    {
      "cell_type": "markdown",
      "id": "91e4a496",
      "metadata": {},
      "source": [
        "Ahora que sabemos calcular el gradiente, vamos a:\n",
        "\n",
        "1. Crear una función _GD_ que compute el gradiente descendente. Debe tener condición de frenado\n",
        "por nr de épocas pero también por tolerancia.\n",
        "2. Generamos un dataset (con _generate_dataset_ de los ejercicios anteriores, utilizando un bias conocido y solo 1 feature)\n",
        "3. Inicializamos un vector $(\\beta_0, \\beta_1)$ al azar.\n",
        "4. Tratamos de calcular los mejores parámetros con el algoritmo.\n",
        "5. Guardamos la función de perdida en train y test en cada época."
      ]
    },
    {
      "cell_type": "code",
      "execution_count": 146,
      "id": "e2a249e1",
      "metadata": {},
      "outputs": [],
      "source": [
        "# 1. C1. Crear una función _GD_ que compute el gradiente descendente. Debe tener condición de frenado por nr de épocas pero también por tolerancia.\n",
        "def GD(X_train, y_train, X_test, y_test, initial_theta, learning_rate, max_epochs=100, tolerance=1e-5):\n",
        "    theta = initial_theta.copy()\n",
        "    train_loss = []\n",
        "    test_loss = []\n",
        "\n",
        "    for epoch in range(max_epochs):\n",
        "        # Computo gradientes\n",
        "        grad = gradient(X_train, y_train, theta)\n",
        "\n",
        "        # actualizo parametros con gd\n",
        "        theta -= learning_rate * grad\n",
        "\n",
        "        # Calculo losses\n",
        "        train_pred = X_train.dot(theta)\n",
        "        train_mse = np.mean((y_train - train_pred) ** 2)\n",
        "        train_loss.append(train_mse)\n",
        "\n",
        "        test_pred = X_test.dot(theta)\n",
        "        test_mse = np.mean((y_test - test_pred) ** 2)\n",
        "        test_loss.append(test_mse)\n",
        "\n",
        "        # chequear que se cumpla la condicion de frenado por tolerancia\n",
        "        if epoch > 0 and abs(train_loss[-1] - train_loss[-2]) < tolerance:\n",
        "            break\n",
        "\n",
        "    return train_loss, test_loss, theta\n"
      ]
    },
    {
      "cell_type": "code",
      "execution_count": 147,
      "id": "e867284e",
      "metadata": {},
      "outputs": [],
      "source": [
        "# 2. Generamos un dataset (con _generate_dataset_ de los ejercicios anteriores, utilizando un bias conocido y solo 1 feature)\n",
        "data = generate_dataset(n_samples=1000,\n",
        "                    n_features=1,\n",
        "                    n_informative=1,\n",
        "                    n_targets=1,\n",
        "                    bias = 5,\n",
        "                    random_state=42,\n",
        "                    output='dataframe')\n",
        "\n",
        "X = data.drop('target', axis=1)\n",
        "y = data['target']\n",
        "X_train, X_test, y_train, y_test = train_test_split(X, y, test_size=0.2)\n",
        "# print(\"Shapes - X_train:\", X_train.shape, \"y_train:\", y_train.shape, \"X_test:\", X_test.shape, \"y_test:\", y_test.shape)\n",
        "\n",
        "\n",
        "X_train = X_train.values.reshape(-1, 1)\n",
        "y_train = y_train.values.ravel()\n"
      ]
    },
    {
      "cell_type": "code",
      "execution_count": 148,
      "id": "d675279f",
      "metadata": {},
      "outputs": [],
      "source": [
        "# 3. Inicializamos un vector $(\\beta_0, \\beta_1)$ al azar.\n",
        "initial_theta = np.random.rand(X_train.shape[1])"
      ]
    },
    {
      "cell_type": "code",
      "execution_count": 149,
      "id": "2642dc53",
      "metadata": {},
      "outputs": [],
      "source": [
        "# 4. Tratamos de calcular los mejores parámetros con el algoritmo.\n",
        "learning_rate = 0.1\n",
        "max_epochs = 100\n",
        "tolerance = 1e-5\n",
        "gd_train_loss, gd_test_loss, optimized_theta = GD(X_train, y_train, X_test, y_test, initial_theta, learning_rate, max_epochs, tolerance)"
      ]
    },
    {
      "cell_type": "code",
      "execution_count": 150,
      "id": "6bf5fea5",
      "metadata": {},
      "outputs": [
        {
          "name": "stdout",
          "output_type": "stream",
          "text": [
            "Final optimized parameters: [16.79197762]\n",
            "Train Loss: [287.0340841814546, 229.08413827089223, 191.71669279783376, 167.62131256508889, 152.0840623942377, 142.0652894784423, 135.6049564314411, 131.43918648845974, 128.75300311500317, 127.02089087294532, 125.90398543427229, 125.18377935948857, 124.71937407306461, 124.41991496322127, 124.22681690622305, 124.1023028794633, 124.02201339804157, 123.97024091107986, 123.93685683188617, 123.91533001698866, 123.90144903626899, 123.89249826363228, 123.88672660149888, 123.88300490225188, 123.88060506578105, 123.87905759654603, 123.87805975312523, 123.87741632095236, 123.8770014212271, 123.87673388443105, 123.87656137060932, 123.87645012976645, 123.87637839913644, 123.87633214559187, 123.87630232025248, 123.87628308819407, 123.87627068692464, 123.87626269030356]\n",
            "Test Loss: [255.42771629774353, 206.79551874824188, 175.66884594155323, 155.78433851953687, 143.11226104535518, 135.06139254307334, 129.9666718819365, 126.75910096404554, 124.75311651854055, 123.50966386089766, 122.74804929531967, 122.28921742308381, 122.01926892037733, 121.8660113420564, 121.78389906986227, 121.74437084937546, 121.72965824108952, 121.72882450793362, 121.7352355654521, 121.7449494011773, 121.75569376299956, 121.76621998011952, 121.77589675590714, 121.78445663883024, 121.79183928844878, 121.79809582791093, 121.80333151908756, 121.80767229194123, 121.81124596741137, 121.81417240235157, 121.81655894381844, 121.81849895058036, 121.82007200627477, 121.82134499358364, 121.82237353908488, 121.8232035489485, 121.82387268422386, 121.82441170162592]\n"
          ]
        }
      ],
      "source": [
        "# 5. Guardamos la función de perdida en train y test en cada época.\n",
        " # Store the loss function for train and test at each epoch\n",
        "print(\"Final optimized parameters:\", optimized_theta)\n",
        "print(\"Train Loss:\", gd_train_loss)\n",
        "print(\"Test Loss:\", gd_test_loss)"
      ]
    },
    {
      "cell_type": "markdown",
      "id": "0e02fba8",
      "metadata": {},
      "source": [
        "#### Gradiente Descendente Estocástico"
      ]
    },
    {
      "cell_type": "markdown",
      "id": "f767cd27",
      "metadata": {},
      "source": [
        "Ahora que sabemos calcular el gradiente, vamos a:\n",
        "\n",
        "1. Crear una función _SGD_ que compute el gradiente descendente estocástico.\n",
        "2. Generamos un dataset (con _generate_dataset_ de los ejercicios anteriores, utilizando un bias conocido y solo 1 feature)\n",
        "3. Inicializamos un vector $(\\beta_0, \\beta_1)$ al azar.\n",
        "4. Tratamos de calcular los mejores parámetros con el algoritmo.\n",
        "5. Guardamos la función de perdida en train y test en cada época."
      ]
    },
    {
      "cell_type": "code",
      "execution_count": 151,
      "id": "0e80946d",
      "metadata": {},
      "outputs": [],
      "source": [
        "# 1. Crear una función _SGD_ que compute el gradiente descendente estocástico.\n",
        "def SGD(X_train, y_train, X_test, y_test, initial_theta, learning_rate, max_epochs=100, tolerance=1e-5, batch_size=1):\n",
        "    theta = initial_theta.copy()\n",
        "    train_loss = []\n",
        "    test_loss = []\n",
        "\n",
        "    for epoch in range(max_epochs):\n",
        "\n",
        "        indices = np.random.permutation(len(X_train))\n",
        "        X_train_shuffled = X_train[indices]\n",
        "        y_train_shuffled = y_train[indices]\n",
        "\n",
        "        for i in range(0, len(X_train), batch_size):\n",
        "            if i + batch_size <= len(X_train):\n",
        "                X_batch = X_train_shuffled[i:i+batch_size]\n",
        "                y_batch = y_train_shuffled[i:i+batch_size]\n",
        "            else:\n",
        "                X_batch = X_train_shuffled[i:]\n",
        "                y_batch = y_train_shuffled[i:]\n",
        "\n",
        "            grad = gradient(X_batch, y_batch, theta)\n",
        "\n",
        "            # actualizo params usando sgd\n",
        "            theta -= learning_rate * grad\n",
        "\n",
        "        # Calculo losses para cada epoch\n",
        "        train_pred = X_train.dot(theta)\n",
        "        train_mse = np.mean((y_train - train_pred) ** 2)\n",
        "        train_loss.append(train_mse)\n",
        "\n",
        "        test_pred = X_test.dot(theta)\n",
        "        test_mse = np.mean((y_test - test_pred) ** 2)\n",
        "        test_loss.append(test_mse)\n",
        "\n",
        "        # condicion de frenado\n",
        "        if epoch > 0 and abs(train_loss[-1] - train_loss[-2]) < tolerance:\n",
        "            break\n",
        "\n",
        "    return train_loss, test_loss, theta\n"
      ]
    },
    {
      "cell_type": "code",
      "execution_count": 152,
      "id": "34060e38",
      "metadata": {},
      "outputs": [
        {
          "name": "stdout",
          "output_type": "stream",
          "text": [
            "Shapes - X_train: (800, 1) y_train: (800,) X_test: (200, 1) y_test: (200,)\n"
          ]
        }
      ],
      "source": [
        "# 2. Generamos un dataset (con _generate_dataset_ de los ejercicios anteriores, utilizando un bias conocido y solo 1 feature)\n",
        "data = generate_dataset(n_samples=1000,\n",
        "                    n_features=1,\n",
        "                    n_informative=1,\n",
        "                    n_targets=1,\n",
        "                    bias = 5,\n",
        "                    random_state=42,\n",
        "                    output='dataframe')\n",
        "\n",
        "X = data.drop('target', axis=1)\n",
        "y = data['target']\n",
        "X_train, X_test, y_train, y_test = train_test_split(X, y, test_size=0.2)\n",
        "\n",
        "print(\"Shapes - X_train:\", X_train.shape, \"y_train:\", y_train.shape, \"X_test:\", X_test.shape, \"y_test:\", y_test.shape)\n",
        "\n",
        "X_train = X_train.values.reshape(-1, 1)\n",
        "y_train = y_train.values.ravel()\n"
      ]
    },
    {
      "cell_type": "code",
      "execution_count": 153,
      "id": "289cee18",
      "metadata": {},
      "outputs": [],
      "source": [
        "# 3. Inicializamos un vector $(\\beta_0, \\beta_1)$ al azar.\n",
        "initial_theta = np.random.rand(X_train.shape[1])"
      ]
    },
    {
      "cell_type": "code",
      "execution_count": 154,
      "id": "fc586dc9",
      "metadata": {},
      "outputs": [],
      "source": [
        "# 4. Tratamos de calcular los mejores parámetros con el algoritmo.\n",
        "learning_rate = 0.1\n",
        "max_epochs = 100\n",
        "tolerance = 1e-5\n",
        "batch_size = 2\n",
        "sgd_train_loss, sgd_test_loss, optimized_theta = SGD(X_train, y_train, X_test, y_test, initial_theta, learning_rate, max_epochs, tolerance, batch_size)"
      ]
    },
    {
      "cell_type": "code",
      "execution_count": 155,
      "id": "d28b6fb1",
      "metadata": {},
      "outputs": [
        {
          "name": "stdout",
          "output_type": "stream",
          "text": [
            "Final optimized parameters: [20.49188426]\n",
            "Train Loss: [143.7548316301943, 140.07171151161216, 126.24035150593744, 136.7923447549933, 123.83159188622204, 138.3207230613791, 129.79377267111744, 127.138831858404, 131.98381498711544, 129.53400750845014, 125.436088593155, 142.06113209497016, 123.26501651874192, 173.85948761469155, 124.72711998818359, 131.58641537675746, 128.19417361033666, 123.2388676896932, 124.6900997905205, 125.20810206719756, 125.81807337955283, 134.09763436844517, 128.8142555408567, 173.69061582084515, 123.28003374276076, 147.74784730531047, 123.18800869866482, 124.10986468297394, 124.15734317258388, 124.59848422742024, 123.11162456976228, 132.79198060003588, 123.81468769446987, 139.44018108705868, 126.23037539017916, 161.72101776594727, 128.59262234694745, 131.81181755900275, 125.85802033590136, 150.75875738022057, 164.05237270963426, 125.79220141794609, 135.52453436371474, 126.07622192097843, 129.24321521544354, 123.13602604359883, 124.65947410626235, 141.9381624383449, 135.71516618046903, 123.25596227011849, 125.14107480997406, 127.3365179816437, 128.89294779746746, 126.80011562002126, 132.48927454759712, 136.8530264387103, 134.7997351129468, 156.21917730604656, 130.02206042122566, 126.21081590212954, 123.1699032997305, 123.26216453179877, 126.2782306750516, 138.5453205050314, 127.68129615504425, 123.26323830678498, 124.6040479336854, 123.19526574208496, 127.78631142842224, 123.86444252438366, 133.6322881114291, 137.63684199742914, 125.03939409307019, 123.17987000152917, 123.33152230795277, 126.38277902493304, 172.0669113017648, 124.09818724156757, 128.16512941851326, 126.41868709677809, 152.80484569884229, 123.52639250035209, 123.45888297720809, 124.46615424214367, 123.75645344383918, 123.53457004708042, 136.95846455066834, 123.09046443789657, 123.2481374676398, 190.14985558881418, 123.09012816805327, 130.8256282881582, 126.27521016152598, 141.8456164669421, 125.85451927010222, 126.51719331809969, 123.24753364369514, 133.1968952849708, 139.28958949153804, 137.00154278378955]\n",
            "Test Loss: [143.14786595909362, 143.24833159793658, 127.28127929667602, 136.73108462684516, 125.32545397248869, 138.1330086860949, 130.39323806309386, 128.05480694444287, 134.89339186723237, 132.32067946061386, 127.90475392292475, 145.28414917820098, 125.3191259029799, 171.34815458873555, 127.10762787784468, 134.47800760348164, 130.8980834211618, 125.27991504409756, 125.98936753208909, 127.65044605340279, 128.32748953496014, 137.09312991963313, 129.52358690663164, 177.2373983477141, 125.34118483755556, 146.85526748284843, 125.19966283787795, 125.53308150869444, 125.56941260804425, 126.96064518551897, 125.055808076475, 133.08754649758862, 126.03774349908925, 139.16253780867552, 127.2727663199319, 165.20718390366818, 129.3277840957715, 134.71369077643124, 126.95646566140084, 154.13294134471028, 162.1124456609904, 128.29897498646457, 138.57037552730944, 127.14146880854611, 132.01306067880702, 124.92241387586125, 127.03044504908694, 145.158468035366, 135.74592963860752, 125.30567213118564, 126.35718269191975, 128.22655695427443, 129.59320077263726, 129.3998484728188, 132.81378325367734, 139.94127035122054, 137.8206779443273, 159.65758024269158, 132.83575598931913, 127.25608102990657, 125.16922470610486, 124.96064259573565, 127.31362008876985, 141.68230909784745, 128.5272180529525, 124.96114054801001, 125.92027861259695, 124.93380500234082, 128.6190578675757, 126.0983696719153, 133.84915399737662, 137.50515359180042, 126.27350895613489, 124.92923230680377, 125.41481838513009, 127.40301974511247, 169.65763545617105, 125.52418075768827, 128.95127869698933, 127.43377016868932, 151.57018879268617, 125.1136034056422, 125.58792278116172, 126.80844867901483, 125.27135524131013, 125.68678997474859, 140.04990904804015, 124.98912749794479, 124.9542994588752, 193.71228272773052, 124.98707202176202, 133.68085601122115, 127.3110402210078, 141.38131704101966, 128.36763132817745, 129.09268138271938, 125.29303373638308, 133.45424716881274, 139.02392159026311, 136.9227021503555]\n"
          ]
        }
      ],
      "source": [
        "# 5. Guardamos la función de perdida en train y test en cada época.\n",
        " # Store the loss function for train and test at each epoch\n",
        "print(\"Final optimized parameters:\", optimized_theta)\n",
        "print(\"Train Loss:\", sgd_train_loss)\n",
        "print(\"Test Loss:\", sgd_test_loss)"
      ]
    },
    {
      "cell_type": "code",
      "execution_count": 156,
      "id": "77e7828d",
      "metadata": {},
      "outputs": [
        {
          "data": {
            "image/png": "[encoded data removed]",
            "text/plain": [
              "<Figure size 720x432 with 1 Axes>"
            ]
          },
          "metadata": {
            "needs_background": "light"
          },
          "output_type": "display_data"
        }
      ],
      "source": [
        "# Loss vs Epoch\n",
        "plt.figure(figsize=(10, 6))\n",
        "epochs_gd = range(len(gd_train_loss))\n",
        "epochs_sgd = range(len(sgd_train_loss))\n",
        "\n",
        "#plt.plot(epochs_gd, gd_train_loss, label='GD Train Loss', color='blue')\n",
        "plt.plot(epochs_gd, gd_test_loss, label='GD Test Loss', color='skyblue')\n",
        "#plt.plot(epochs_sgd, sgd_train_loss, label='SGD Train Loss', color='red')\n",
        "plt.plot(epochs_sgd, sgd_test_loss, label='SGD Test Loss', color='salmon')\n",
        "\n",
        "plt.title('Loss vs Epoch')\n",
        "plt.xlabel('Epoch')\n",
        "plt.ylabel('Loss')\n",
        "plt.legend()\n",
        "plt.grid(True)\n",
        "plt.show()"
      ]
    },
    {
      "cell_type": "markdown",
      "id": "e4c183e0",
      "metadata": {},
      "source": [
        "Analice:\n",
        "\n",
        "1. Cómo se comportan estos algoritmos? se puede ver la diferencia entre SGD y GD?.\n",
        "2. Cómo afecto el _learning rate_ a estos algoritmos? Realice una simulación del mismo cambiando el `lr`.\n",
        "3. Compare en una curva de Perdida vs Epoch los dos algoritmos. Nota algo interesante?"
      ]
    },
    {
      "cell_type": "markdown",
      "id": "7686a399",
      "metadata": {},
      "source": [
        "### Ejercicio 7"
      ]
    },
    {
      "cell_type": "markdown",
      "id": "7a07e7e1",
      "metadata": {},
      "source": [
        "En este ejercicio vamos a considerar la regresión logística como un problema de clasificación binaria.\n",
        "La implementación de la misma podemos considerar la siguiente:\n",
        "\n",
        "```python\n",
        "\n",
        "class LogisticRegressionSGD():\n",
        "    def __init__(self, lr=0.01, max_iter=1000, tol=1e-3, random_state=42):\n",
        "        self.lr = lr\n",
        "        self.max_iter = max_iter\n",
        "        self.tol = tol\n",
        "        self.random_state = random_state\n",
        "        self.weights = None\n",
        "        self.loss = None\n",
        "        self.loss_history = None\n",
        "        self.grad_history = None\n",
        "        self.theta_history = None\n",
        "\n",
        "    def fit(self, X, y):\n",
        "        \"\"\"\n",
        "        Fit the model according to the given training data.\n",
        "\n",
        "        Params:\n",
        "        X : numpy.ndarray\n",
        "            The training input samples. A 2D array of shape (n_samples, n_features).\n",
        "\n",
        "        y : numpy.ndarray\n",
        "            The target values. An array of shape (n_samples,).\n",
        "\n",
        "        Returns:\n",
        "        self : LogisticRegressionSGD\n",
        "            The fitted model.\n",
        "        \"\"\"\n",
        "        np.random.seed(self.random_state)\n",
        "        self.weights = np.random.normal(size=X.shape[1])\n",
        "        self.loss_history = []\n",
        "        self.grad_history = []\n",
        "        self.theta_history = []\n",
        "\n",
        "        self.SGD(X, y)\n",
        "\n",
        "        return self\n",
        "\n",
        "    def _step(self, X, y):\n",
        "        \"\"\"\n",
        "        Perform a single gradient step.\n",
        "\n",
        "        Params:\n",
        "        X : numpy.ndarray\n",
        "            The training input samples. A 2D array of shape (n_samples, n_features).\n",
        "\n",
        "        y : numpy.ndarray\n",
        "            The target values. An array of shape (n_samples,).\n",
        "\n",
        "        Returns:\n",
        "        loss : float\n",
        "            The value of the loss function for the current value of the weights.\n",
        "\n",
        "        grad : numpy.ndarray\n",
        "            The gradient of the loss function for the current value of the weights.\n",
        "        \"\"\"\n",
        "        N = len(y)\n",
        "        y_hat = self.logit(X)\n",
        "        loss = -np.mean(y * np.log(y_hat) + (1 - y) * np.log(1 - y_hat))\n",
        "        grad = (-1 / N) * X.T.dot(y - y_hat)\n",
        "\n",
        "        return loss, grad\n",
        "\n",
        "    def SGD(self, X, y):\n",
        "        \"\"\"\n",
        "        Perform the stochastic gradient descent optimization algorithm.\n",
        "\n",
        "        Params:\n",
        "        X : numpy.ndarray\n",
        "            The training input samples. A 2D array of shape (n_samples, n_features).\n",
        "\n",
        "        y : numpy.ndarray\n",
        "            The target values. An array of shape (n_samples,).\n",
        "        \"\"\"\n",
        "        for epoch in range(self.max_iter):\n",
        "        prev_weights = self.weights.copy()\n",
        "        prev_loss = self._step(X, y)\n",
        "\n",
        "        self.weights -= self.lr * prev_loss[1]\n",
        "\n",
        "        self.loss_history.append(prev_loss[0])\n",
        "        self.grad_history.append(prev_loss[1])\n",
        "        self.theta_history.append(prev_weights)\n",
        "\n",
        "        # importante la convergencia para que no actualice innecesariamente los pesos\n",
        "        if np.linalg.norm(self.weights - prev_weights) < self.tol:\n",
        "            break\n",
        "\n",
        "    def logit(self, X):\n",
        "        \"\"\"\n",
        "        Calculate the logit of a set of observations.\n",
        "\n",
        "        Params:\n",
        "        X : numpy.ndarray\n",
        "            The training input samples. A 2D array of shape (n_samples, n_features).\n",
        "\n",
        "        Returns:\n",
        "        logit : numpy.ndarray\n",
        "            The logit of the observations. An array of shape (n_samples,).\n",
        "        \"\"\"\n",
        "        return 1 / (1 + np.exp(-X.dot(self.weights)))\n",
        "    \n",
        "    def predict_proba(self, X):\n",
        "        \"\"\"\n",
        "        Predict the probability of each class for a set of observations.\n",
        "\n",
        "        Params:\n",
        "        X : numpy.ndarray\n",
        "            The training input samples. A 2D array of shape (n_samples, n_features).\n",
        "\n",
        "        Returns:\n",
        "        proba : numpy.ndarray\n",
        "            The predicted probability of each class. An array of shape (n_samples,).\n",
        "        \"\"\"\n",
        "        return self.logit(X)\n",
        "    \n",
        "    def predict(self, X):\n",
        "        \"\"\"\n",
        "        Predict the class of a set of observations.\n",
        "\n",
        "        Params:\n",
        "        X : numpy.ndarray\n",
        "            The training input samples. A 2D array of shape (n_samples, n_features).\n",
        "\n",
        "        Returns:\n",
        "        y_pred : numpy.ndarray\n",
        "            The predicted class. An array of shape (n_samples,).\n",
        "        \"\"\"\n",
        "        return (self.predict_proba(X) >= 0.5).astype(int)\n",
        "    \n",
        "    def score(self, X, y):\n",
        "        \"\"\"\n",
        "        Calculate the accuracy of the model.\n",
        "\n",
        "        Params:\n",
        "        X : numpy.ndarray\n",
        "            The training input samples. A 2D array of shape (n_samples, n_features).\n",
        "\n",
        "        y : numpy.ndarray\n",
        "            The target values. An array of shape (n_samples,).\n",
        "\n",
        "        Returns:\n",
        "        score : float\n",
        "            The accuracy of the model.\n",
        "        \"\"\"\n",
        "        return np.mean(self.predict(X) == y)\n",
        "\n",
        "```"
      ]
    },
    {
      "cell_type": "markdown",
      "metadata": {},
      "source": [
        "Con esta clase, vamos a tomar el dataset de breast cancer y vamos a realizar una clasificación binaria.\n",
        "La idea de este ejercicio es que puedan jugar con la manera de obtener los hiperparámetros óptimos para el modelo.\n",
        "\n",
        "Para ello van a tener que completar el método `SGD` de la clase `LogisticRegressionSGD` y luego realizar una búsqueda de grilla para encontrar los mejores hiperparámetros."
      ]
    },
    {
      "cell_type": "code",
      "execution_count": null,
      "id": "ddc71d51",
      "metadata": {},
      "outputs": [],
      "source": [
        "from sklearn.datasets import load_breast_cancer\n",
        "from sklearn.model_selection import train_test_split, GridSearchCV\n",
        "\n",
        "X,y = load_breast_cancer(return_X_y=True)\n",
        "\n",
        "X_train, X_test, y_train, y_test = train_test_split(X,y, test_size=0.2, random_state=42)\n",
        "\n",
        "param_grid = {\n",
        "    'lr': [0.001, 0.01, 0.1], \n",
        "    'max_iter': [1000, 2000],  \n",
        "    'tol': [1e-3, 1e-4]  \n",
        "}\n",
        "\n",
        "model = LogisticRegressionSGD()\n",
        "\n",
        "# realizo grid search\n",
        "grid_search = GridSearchCV(estimator=model, param_grid=param_grid, cv=5, scoring='accuracy', n_jobs=-1)\n",
        "grid_search.fit(X_train, y_train)\n",
        "\n",
        "# mejores hiperparametros\n",
        "best_params = grid_search.best_params_\n",
        "best_score = grid_search.best_score_\n",
        "\n",
        "print(\"Best Hyperparameters:\", best_params)\n",
        "print(\"Best Accuracy:\", best_score)"
      ]
    },
    {
      "cell_type": "code",
      "execution_count": null,
      "metadata": {},
      "outputs": [],
      "source": [
        "best_model = grid_search.best_estimator_\n",
        "test_accuracy = best_model.score(X_test, y_test)\n",
        "print(\"Test Accuracy:\", test_accuracy)"
      ]
    }
  ],
  "metadata": {
    "colab": {
      "collapsed_sections": [],
      "name": "Practica_clase_3.ipynb",
      "provenance": []
    },
    "kernelspec": {
      "display_name": "Python 3.10.7 64-bit",
      "language": "python",
      "name": "python3"
    },
    "language_info": {
      "codemirror_mode": {
        "name": "ipython",
        "version": 3
      },
      "file_extension": ".py",
      "mimetype": "text/x-python",
      "name": "python",
      "nbconvert_exporter": "python",
      "pygments_lexer": "ipython3",
      "version": "3.9.18"
    },
    "vscode": {
      "interpreter": {
        "hash": "b5c22da4a52024410f64f9c5a5e2b4ffeeb944a5ed00e8825a42174cdab30315"
      }
    }
  },
  "nbformat": 4,
  "nbformat_minor": 5
}
