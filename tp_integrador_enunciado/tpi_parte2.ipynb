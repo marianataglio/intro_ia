{
  "cells": [
    {
      "attachments": {},
      "cell_type": "markdown",
      "id": "07289bb0",
      "metadata": {},
      "source": [
        "# Trabajo integrador - Parte 2"
      ]
    },
    {
      "cell_type": "markdown",
      "id": "42989be4",
      "metadata": {},
      "source": [
        "# Aprendizaje Supervisado\n",
        "\n",
        "**Nombre**:"
      ]
    },
    {
      "cell_type": "markdown",
      "id": "8387800e",
      "metadata": {},
      "source": [
        "## Problema de regresión"
      ]
    },
    {
      "attachments": {},
      "cell_type": "markdown",
      "id": "dc5e74de",
      "metadata": {},
      "source": [
        "Para la creación de los datasets y la manipulación de los mismos vamos a trabajar directamente con dos módulos includios en la carpeta utils.\n",
        "\n",
        "En esta podemos encontrar:\n",
        " - generate_data: Esta función wrappea el método de _make_regression_ de scikit learn para devolver un dataframe con un problema de regresión basado en sus parámetros.\n",
        " - generate_outliers: Esta función genera outliers livianos y pesados en función de los parámetros que le demos de entrada."
      ]
    },
    {
      "cell_type": "code",
      "execution_count": null,
      "id": "1a033541",
      "metadata": {},
      "outputs": [],
      "source": [
        "from utils.data_generation import generate_dataset\n",
        "from utils.data_manipulation import generate_outliers"
      ]
    },
    {
      "cell_type": "markdown",
      "id": "abc333db",
      "metadata": {},
      "source": [
        "### Ejemplo de uso"
      ]
    },
    {
      "cell_type": "code",
      "execution_count": null,
      "id": "a902d24a",
      "metadata": {},
      "outputs": [],
      "source": [
        "import pandas as pd\n",
        "import numpy as np\n",
        "import seaborn as sns\n",
        "import matplotlib.pyplot as plt"
      ]
    },
    {
      "cell_type": "code",
      "execution_count": null,
      "id": "fee49e6b",
      "metadata": {},
      "outputs": [],
      "source": [
        "## Vamos a crear un dataset primero.\n",
        "\n",
        "data = generate_dataset(\n",
        "    n_samples=1000,\n",
        "    n_features=5,\n",
        "    n_informative=2,\n",
        "    n_targets=1,\n",
        "    noise=0,\n",
        "    output='dataframe'\n",
        ")\n",
        "\n",
        "## esto nos genera un dataset que contiene 5 features, 2 de los cuales son informativos, y 1 target.\n",
        "\n",
        "data.head()"
      ]
    },
    {
      "cell_type": "code",
      "execution_count": null,
      "id": "7c0df0dd",
      "metadata": {},
      "outputs": [],
      "source": [
        "## vamos a visualizar estas variables\n",
        "## creamos una figura de matplotlib que contenga 5 subplots, uno por cada feature:\n",
        "\n",
        "fig, axes = plt.subplots(1, 5, figsize=(20, 5))\n",
        "\n",
        "## Creamos un loop para iterar sobre cada feature y graficar la regresión lineal entre cada feature y el target:\n",
        "\n",
        "for i, feature in enumerate(data.columns[:-1]):\n",
        "    sns.regplot(x=feature,\n",
        "                y='target',\n",
        "                data=data,\n",
        "                ax=axes[i],\n",
        "                scatter_kws={'alpha': 0.4},\n",
        "                line_kws={'color': 'red'},\n",
        "                ci=95)\n",
        "    \n"
      ]
    },
    {
      "cell_type": "markdown",
      "id": "ba9d4947",
      "metadata": {},
      "source": [
        "Ahora agregamos _outliers_ a un nuevo dataset"
      ]
    },
    {
      "cell_type": "code",
      "execution_count": null,
      "id": "2fcec748",
      "metadata": {},
      "outputs": [],
      "source": [
        "data = generate_dataset(\n",
        "    n_samples=1000,\n",
        "    n_features=1,\n",
        "    n_informative=1,\n",
        "    n_targets=1,\n",
        "    noise=0,\n",
        "    output='dataframe'\n",
        ")\n"
      ]
    },
    {
      "cell_type": "code",
      "execution_count": null,
      "id": "1f706cc4",
      "metadata": {},
      "outputs": [],
      "source": [
        "do1 = generate_outliers(\n",
        "    df=data,\n",
        "    columns=['x0'],\n",
        "    percentage=0.01,\n",
        "    extreme_outliers=False,\n",
        "    only_tails=False,\n",
        ")\n",
        "do2 = generate_outliers(\n",
        "    df=data,\n",
        "    columns=['x0'],\n",
        "    percentage=0.01,\n",
        "    extreme_outliers=False,\n",
        "    only_tails=True,\n",
        "    two_tailed=True,\n",
        ")\n",
        "do3 = generate_outliers(\n",
        "    df=data,\n",
        "    columns=['x0'],\n",
        "    percentage=0.01,\n",
        "    extreme_outliers=False,\n",
        "    only_tails=True,\n",
        "    two_tailed=False,\n",
        ")"
      ]
    },
    {
      "cell_type": "code",
      "execution_count": null,
      "id": "37444567",
      "metadata": {},
      "outputs": [],
      "source": [
        "## vamos a visualizar estas los distintos datasets\n",
        "\n",
        "fig, axes = plt.subplots(1, 4, figsize=(20, 5))\n",
        "\n",
        "sns.regplot(x='x0',\n",
        "            y='target',\n",
        "            data=data,\n",
        "            ax=axes[0],\n",
        "            scatter_kws={'alpha': 0.4},\n",
        "            line_kws={'color': 'red'},\n",
        "            ci=95)\n",
        "axes[0].set_title('Original')\n",
        "\n",
        "sns.regplot(x='x0',\n",
        "            y='target',\n",
        "            data=do1,\n",
        "            ax=axes[1],\n",
        "            scatter_kws={'alpha': 0.4},\n",
        "            line_kws={'color': 'red'},\n",
        "            ci=95)\n",
        "axes[1].set_title('Outliers')\n",
        "\n",
        "sns.regplot(x='x0',\n",
        "            y='target',\n",
        "            data=do2,\n",
        "            ax=axes[2],\n",
        "            scatter_kws={'alpha': 0.4},\n",
        "            line_kws={'color': 'red'},\n",
        "            ci=95)\n",
        "axes[2].set_title('Outliers (two-tailed)')\n",
        "\n",
        "sns.regplot(x='x0',\n",
        "            y='target',\n",
        "            data=do3,\n",
        "            ax=axes[3],\n",
        "            scatter_kws={'alpha': 0.4},\n",
        "            line_kws={'color': 'red'},\n",
        "            ci=95)\n",
        "axes[3].set_title('Outliers (one-tailed)')\n"
      ]
    },
    {
      "cell_type": "code",
      "execution_count": null,
      "id": "0fcda0e3",
      "metadata": {},
      "outputs": [],
      "source": [
        "## y si lo queremos con mucho mas outliers?\n",
        "\n",
        "doe = generate_outliers(\n",
        "    df=data,\n",
        "    columns=['x0'],\n",
        "    percentage=0.1,\n",
        "    extreme_outliers=True)\n",
        "\n",
        "## vamos a visualizar este caso\n",
        "\n",
        "fig, axes = plt.subplots(1, 2, figsize=(20, 5))\n",
        "\n",
        "sns.regplot(x='x0',\n",
        "            y='target',\n",
        "            data=data,\n",
        "            ax=axes[0],\n",
        "            scatter_kws={'alpha': 0.4},\n",
        "            line_kws={'color': 'red'},\n",
        "            ci=95)\n",
        "axes[0].set_title('Original')\n",
        "\n",
        "sns.regplot(x='x0',\n",
        "            y='target',\n",
        "            data=doe,\n",
        "            ax=axes[1],\n",
        "            scatter_kws={'alpha': 0.4},\n",
        "            line_kws={'color': 'red'},\n",
        "            ci=95)\n",
        "axes[1].set_title('Outliers')\n"
      ]
    },
    {
      "attachments": {},
      "cell_type": "markdown",
      "id": "2734dfde",
      "metadata": {},
      "source": [
        "## Ejercicio 4"
      ]
    },
    {
      "attachments": {},
      "cell_type": "markdown",
      "id": "44621118",
      "metadata": {},
      "source": [
        "Utilizando la funcion `generate_data` generar un problema de regresión multivariada en el cual cuente con N variables informativas y M variables no informativas.\n",
        "\n",
        "Ejemplo:\n",
        "```python\n",
        "data = generate_dataset(n_samples=1000,\n",
        "                    n_features=10,\n",
        "                    n_informative=5,\n",
        "                    n_targets=1,\n",
        "                    noise=20.0,\n",
        "                    random_state=42,\n",
        "                    output='dataframe')\n",
        "\n",
        "```\n",
        "\n",
        "Dado un valor de _noise_ fijo, sin fijar _random_state_ (para poder asegurarnos\n",
        "que los datos que generamos son distintos) realizaremos 100 simulaciones de este dataset.\n",
        "\n",
        "En la simulación deberemos generar el dataset, hacer una división de train-test, ajustar\n",
        "un modelo de regresión lineal multivariada y validar el mismo.\n",
        "\n",
        "En cada iteración de esta simulación debemos guardar:\n",
        "\n",
        "- Los coeficientes de la regresión.\n",
        "- El RMSE de train y test.\n",
        "- El MAE de train y test. \n",
        "\n",
        "\n",
        "> Qué pasa con los coeficientes de las variables no informativas? La regresión se ve afectada por estas variables?\n",
        "> ***HINT:*** Utilice las distribuciones de los coeficientes para analizar y test de hipótesis para sacar conclusiones."
      ]
    },
    {
      "cell_type": "code",
      "execution_count": 167,
      "id": "eaa01488",
      "metadata": {},
      "outputs": [],
      "source": [
        "import numpy as np\n",
        "from tqdm import tqdm\n",
        "from sklearn.metrics import mean_absolute_error, mean_squared_error\n",
        "from sklearn.linear_model import LinearRegression, HuberRegressor, RidgeCV\n"
      ]
    },
    {
      "cell_type": "code",
      "execution_count": 168,
      "id": "4df91762",
      "metadata": {},
      "outputs": [],
      "source": [
        "## Parámetros de la simulación\n",
        "n_exp = 1000\n",
        "n_samples = 1000\n",
        "n_features = 10\n",
        "n_informative = 2\n",
        "n_targets = 1\n",
        "noise =  np.linspace(0,50,10)\n",
        "bias = np.linspace(0,50,5)\n",
        "\n",
        "\n",
        "#noise = np.linspace(0, 100, 100)\n",
        "#bias = np.linspace(0, 100, 20)"
      ]
    },
    {
      "cell_type": "code",
      "execution_count": 335,
      "id": "08e0cf86",
      "metadata": {},
      "outputs": [],
      "source": [
        "## Esqueleto de la simulación\n",
        "## Parámetros de la simulación\n",
        "\n",
        "\n",
        "def simulate_regression(data, regression_model='LinearRegression', n_exp=100):\n",
        "    results = []\n",
        "    coefficients_list =[]   \n",
        "\n",
        "    for _ in tqdm(range(n_exp)):\n",
        "        for b in bias:\n",
        "            for n in noise:\n",
        "                data = generate_dataset(\n",
        "                    n_samples=n_samples,\n",
        "                    n_features=n_features,\n",
        "                    n_informative=n_informative,\n",
        "                    n_targets=n_targets,\n",
        "                    noise=n,\n",
        "                    bias=b,\n",
        "                    output='dataframe'\n",
        "                )\n",
        "                # Train test split\n",
        "                X = data.drop('target', axis=1)\n",
        "                y = data['target']\n",
        "                X_train, X_test, y_train, y_test = train_test_split(X, y, test_size=0.2)\n",
        "\n",
        "                \n",
        "                if regression_model == 'LinearRegression':\n",
        "                    model = LinearRegression()\n",
        "                elif regression_model == 'HuberRegressor':\n",
        "                    model = HuberRegressor()\n",
        "                elif regression_model == 'RidgeCV':\n",
        "                    model = RidgeCV()\n",
        "\n",
        "\n",
        "                model.fit(X_train, y_train)\n",
        "                coefficients = model.coef_ if regression_model != 'HuberRegressor' else model.coef_\n",
        "                coefficients_list.append(coefficients)\n",
        "\n",
        "                # Valido predicciones en train y test\n",
        "                y_train_pred = model.predict(X_train)\n",
        "                y_test_pred = model.predict(X_test)\n",
        "\n",
        "                # RMSE y MAE\n",
        "                rmse_train = np.sqrt(mean_squared_error(y_train, y_train_pred))\n",
        "                rmse_test = np.sqrt(mean_squared_error(y_test, y_test_pred))\n",
        "\n",
        "                mae_train = mean_absolute_error(y_train, y_train_pred)\n",
        "                mae_test = mean_absolute_error(y_test, y_test_pred)\n",
        "\n",
        "                # Results\n",
        "                results.append({\n",
        "                #  'coefficients': coefficients,\n",
        "                    'RMSE_train': rmse_train,\n",
        "                    'RMSE_test': rmse_test,\n",
        "                    'MAE_train': mae_train,\n",
        "                    'MAE_test': mae_test \n",
        "                })\n",
        "        \n",
        "    results_df = pd.DataFrame(results)\n",
        "    coefficients_matrix = np.array(coefficients_list)\n",
        "    return results_df, coefficients_matrix\n"
      ]
    },
    {
      "cell_type": "code",
      "execution_count": 336,
      "id": "9ba217c0",
      "metadata": {},
      "outputs": [
        {
          "name": "stderr",
          "output_type": "stream",
          "text": [
            "100%|██████████| 100/100 [00:30<00:00,  3.23it/s]"
          ]
        },
        {
          "name": "stdout",
          "output_type": "stream",
          "text": [
            "     RMSE_train     RMSE_test     MAE_train      MAE_test\n",
            "0  1.916851e-13  1.987994e-13  1.532290e-13  1.567985e-13\n",
            "1  5.530269e+00  5.728596e+00  4.398363e+00  4.622511e+00\n",
            "2  1.105249e+01  1.088875e+01  8.883112e+00  8.801562e+00\n",
            "3  1.649419e+01  1.595186e+01  1.327263e+01  1.245734e+01\n",
            "4  2.046054e+01  2.163963e+01  1.614326e+01  1.712356e+01\n"
          ]
        },
        {
          "name": "stderr",
          "output_type": "stream",
          "text": [
            "\n"
          ]
        }
      ],
      "source": [
        "dataset_1 = []\n",
        "for n in np.linspace(0, 50, 10):\n",
        "    for b in np.linspace(0, 50, 5):\n",
        "        data = generate_dataset(\n",
        "            n_samples=1000,\n",
        "            n_features=10,\n",
        "            n_informative=2,\n",
        "            n_targets=1,\n",
        "            noise=n,\n",
        "            bias=b,\n",
        "            output='dataframe'\n",
        "        )\n",
        "        datasets.append(data)\n",
        "\n",
        "selected_regression_model = 'LinearRegression'\n",
        "results_1, coefficients = simulate_regression(dataset_1, regression_model=selected_regression_model,n_exp=100)\n",
        "print(results.head())\n"
      ]
    },
    {
      "cell_type": "markdown",
      "id": "3edbda19",
      "metadata": {},
      "source": [
        "> Qué pasa con los coeficientes de las variables no informativas? La regresión se ve afectada por estas variables?\n",
        "> ***HINT:*** Utilice las distribuciones de los coeficientes para analizar y test de hipótesis para sacar conclusiones."
      ]
    },
    {
      "cell_type": "code",
      "execution_count": 236,
      "id": "276d1ac2",
      "metadata": {},
      "outputs": [
        {
          "data": {
            "image/png": "[encoded data removed]",
            "text/plain": [
              "<Figure size 1080x1440 with 12 Axes>"
            ]
          },
          "metadata": {
            "needs_background": "light"
          },
          "output_type": "display_data"
        }
      ],
      "source": [
        "import matplotlib.pyplot as plt\n",
        "\n",
        "# obtengo columnas de la matriz\n",
        "num_features = coefficients.shape[1]  \n",
        "num_plots_per_row = 3  \n",
        "\n",
        "# Sublots para cada  distribucion\n",
        "fig, axs = plt.subplots(nrows=num_rows, ncols=num_plots_per_row, figsize=(15, 5 * num_rows))  \n",
        "\n",
        "\n",
        "# Plot disitribucion para todos los coeficientes de cada feature\n",
        "for feature_index in range(num_features):\n",
        "    row_index = feature_index // num_plots_per_row  \n",
        "    col_index = feature_index % num_plots_per_row  \n",
        "    \n",
        "    feature_coefficients = coefficients[:, feature_index]\n",
        "    axs[row_index, col_index].hist(feature_coefficients, bins=30, alpha=0.7)\n",
        "    axs[row_index, col_index].set_title(f'Feature {feature_index + 1} Coefficients')\n",
        "\n",
        "plt.tight_layout()\n",
        "plt.show()\n"
      ]
    },
    {
      "cell_type": "markdown",
      "id": "b47de84d",
      "metadata": {},
      "source": [
        "Como se ve en los gráficos, los coeficientes de las variables no informativas tienen la media en 0. Esto es el modelo debería anularlas. Pero para saber si afectan a los resultados de la regresión lineal, veamos el rmse y mae y luego comparemos con otras corridas: con solo 8 features informativas, con 8 features informativas y 2 no informativas."
      ]
    },
    {
      "cell_type": "code",
      "execution_count": 237,
      "id": "e0c84a4a",
      "metadata": {},
      "outputs": [],
      "source": [
        "def plot_rmse_histogram(results):\n",
        "    rmse_test_values = results['RMSE_test']\n",
        "\n",
        "    # Plot histogram of RMSE values from the test set\n",
        "    plt.figure(figsize=(8, 6))\n",
        "    plt.hist(rmse_test_values, bins=20, alpha=0.7)\n",
        "    plt.title('Histogram of RMSE in Test Set')\n",
        "    plt.xlabel('RMSE Values')\n",
        "    plt.ylabel('Frequency')\n",
        "    plt.grid(True)\n",
        "    plt.show()"
      ]
    },
    {
      "cell_type": "markdown",
      "id": "0a292f0d",
      "metadata": {},
      "source": [
        "Corro simulación con 8 features informativas"
      ]
    },
    {
      "cell_type": "code",
      "execution_count": 251,
      "id": "9bd082a4",
      "metadata": {},
      "outputs": [
        {
          "name": "stderr",
          "output_type": "stream",
          "text": [
            "100%|██████████| 100/100 [00:47<00:00,  2.10it/s]\n"
          ]
        }
      ],
      "source": [
        "dataset_2 = []\n",
        "for n in np.linspace(0, 50, 10):\n",
        "    for b in np.linspace(0, 50, 5):\n",
        "        data = generate_dataset(\n",
        "            n_samples=1000,\n",
        "            n_features=8,\n",
        "            n_informative=8,\n",
        "            n_targets=1,\n",
        "            noise=n,\n",
        "            bias=b,\n",
        "            output='dataframe'\n",
        "        )\n",
        "        datasets.append(data)\n",
        "\n",
        "selected_regression_model = 'LinearRegression'\n",
        "results_2, coefficients = simulate_regression(dataset_2, regression_model=selected_regression_model,n_exp=100)\n",
        "print(results.head())"
      ]
    },
    {
      "cell_type": "markdown",
      "id": "27ebc678",
      "metadata": {},
      "source": [
        "Corro simulación con 10 features y 8 informativas"
      ]
    },
    {
      "cell_type": "code",
      "execution_count": 250,
      "id": "2e42da50",
      "metadata": {},
      "outputs": [
        {
          "name": "stderr",
          "output_type": "stream",
          "text": [
            "100%|██████████| 100/100 [00:49<00:00,  2.03it/s]\n"
          ]
        }
      ],
      "source": [
        "dataset_3 = []\n",
        "for n in np.linspace(0, 50, 10):\n",
        "    for b in np.linspace(0, 50, 5):\n",
        "        data = generate_dataset(\n",
        "            n_samples=1000,\n",
        "            n_features=10,\n",
        "            n_informative=8,\n",
        "            n_targets=1,\n",
        "            noise=n,\n",
        "            bias=b,\n",
        "            output='dataframe'\n",
        "        )\n",
        "        datasets.append(data)\n",
        "\n",
        "selected_regression_model = 'LinearRegression'\n",
        "results_3, coefficients = simulate_regression(dataset_3, regression_model=selected_regression_model,n_exp=100)\n",
        "print(results.head())"
      ]
    },
    {
      "cell_type": "markdown",
      "id": "835c61b5",
      "metadata": {},
      "source": [
        "#### Ploteo la distribución del RMSE en los 3 batches de simulaciones"
      ]
    },
    {
      "cell_type": "code",
      "execution_count": 252,
      "id": "c78233c0",
      "metadata": {},
      "outputs": [
        {
          "data": {
            "text/plain": [
              "Text(0.5, 1.0, 'RMSE test')"
            ]
          },
          "execution_count": 252,
          "metadata": {},
          "output_type": "execute_result"
        },
        {
          "data": {
            "image/png": "[encoded data removed]",
            "text/plain": [
              "<Figure size 432x288 with 1 Axes>"
            ]
          },
          "metadata": {
            "needs_background": "light"
          },
          "output_type": "display_data"
        }
      ],
      "source": [
        "plt.violinplot([results_1.RMSE_test, results_2.RMSE_test, results_3.RMSE_test])\n",
        "plt.title(\"RMSE test\")"
      ]
    },
    {
      "cell_type": "code",
      "execution_count": 253,
      "id": "a73f1cda",
      "metadata": {},
      "outputs": [
        {
          "data": {
            "text/plain": [
              "Text(0.5, 1.0, 'MAE_test')"
            ]
          },
          "execution_count": 253,
          "metadata": {},
          "output_type": "execute_result"
        },
        {
          "data": {
            "image/png": "[encoded data removed]",
            "text/plain": [
              "<Figure size 432x288 with 1 Axes>"
            ]
          },
          "metadata": {
            "needs_background": "light"
          },
          "output_type": "display_data"
        }
      ],
      "source": [
        "plt.violinplot([results_1.MAE_test, results_2.MAE_test, results_3.MAE_test])\n",
        "plt.title(\"MAE_test\")"
      ]
    },
    {
      "cell_type": "markdown",
      "id": "1cb7b965",
      "metadata": {},
      "source": [
        "## Conclusiones\n",
        "\n",
        "Las distribuciones de los errores son iguales. Podemos decir que las variables no informativas no afectan a la regresión.\n"
      ]
    },
    {
      "cell_type": "markdown",
      "id": "5772f3b8",
      "metadata": {},
      "source": [
        "## Ejercicio 5"
      ]
    },
    {
      "attachments": {},
      "cell_type": "markdown",
      "id": "ad2f9ee6",
      "metadata": {},
      "source": [
        "\n",
        "Utilizando la funcion `generate_outliers` generar puntos extremos dentro de los datos que generamos anteriormente. En este ejercicio dejar setteado `extreme_outliers` como `False` y observe como variando el porcentaje de los mismos la regresión comienza a afectarse.\n",
        "\n",
        "Pasos:\n",
        "\n",
        "1. Generamos un dataset de regresion lineal simple (1 feature y 1 target value) con `noise` fijo en 0.5.\n",
        "2. Generamos outliers fijando `extreme_outliers`.\n",
        "2. Probar los distintos regresores a ver como se comportan frente a estos datasets anómalos.\n",
        "3. Simular con multiples porcentajes de outliers (desde 1% hasta 10%). Qué pasa con los modelos?\n",
        "\n",
        "Los modelos a utilizar en este problema son:\n",
        "\n",
        "    - Regresion Lineal simple\n",
        "    - Regresion de Huber\n",
        "    - Regresión Ridge"
      ]
    },
    {
      "cell_type": "code",
      "execution_count": 345,
      "id": "82a019af",
      "metadata": {},
      "outputs": [],
      "source": [
        "\n",
        "# Generar dataset de regresion lineal simple 1 feature, 1 target value, noise fijo en 0.5\n",
        "data = generate_dataset(n_samples=1000,\n",
        "                    n_features=1,\n",
        "                    n_informative=1,\n",
        "                    n_targets=1,\n",
        "                    noise=0.5,\n",
        "                    random_state=42,\n",
        "                    output='dataframe')\n",
        "\n",
        "\n",
        "data_with_outliers = generate_outliers(\n",
        "    df=data,\n",
        "    columns=['x0'],\n",
        "    percentage=0.1,\n",
        "    extreme_outliers=True)\n"
      ]
    },
    {
      "cell_type": "code",
      "execution_count": 358,
      "id": "29593ea3",
      "metadata": {},
      "outputs": [],
      "source": [
        "\n",
        "# performa simulaciones para diferentes porcentajes de outliers\n",
        "def perform_simulations(percentages, regression_model = \"LinearRegression\", n_exp = 10):\n",
        "    results_dict = {}\n",
        "\n",
        "    for percentage in percentages:\n",
        "        data = generate_dataset(\n",
        "            n_samples=1000,\n",
        "            n_features=1,\n",
        "            n_informative=1,\n",
        "            n_targets=1,\n",
        "            noise=0.5,\n",
        "            random_state=42,\n",
        "            output='dataframe'\n",
        "        )\n",
        "\n",
        "        data_with_outliers = generate_outliers(\n",
        "            df=data,\n",
        "            columns=['x0'],\n",
        "            percentage=percentage,\n",
        "            extreme_outliers=True\n",
        "        )\n",
        "\n",
        "        selected_regression_model = regression_model\n",
        "        n_exp = n_exp\n",
        "        results, coefficients = simulate_regression(data_with_outliers, regression_model=selected_regression_model, n_exp=n_exp)\n",
        "\n",
        "        # guardo los resultados para cada % de outlier\n",
        "        results_dict[percentage] = results  \n",
        "\n",
        "    return results_dict\n"
      ]
    },
    {
      "cell_type": "code",
      "execution_count": 361,
      "id": "1091e05b",
      "metadata": {},
      "outputs": [
        {
          "name": "stderr",
          "output_type": "stream",
          "text": [
            "100%|██████████| 10/10 [00:03<00:00,  3.04it/s]\n",
            "100%|██████████| 10/10 [00:02<00:00,  3.65it/s]\n",
            "100%|██████████| 10/10 [00:02<00:00,  3.63it/s]\n",
            "100%|██████████| 10/10 [00:02<00:00,  3.61it/s]\n",
            " 90%|█████████ | 9/10 [00:05<00:00,  1.55it/s]/Users/mtaglio/anaconda3/lib/python3.9/site-packages/sklearn/linear_model/_huber.py:296: ConvergenceWarning: lbfgs failed to converge (status=1):\n",
            "STOP: TOTAL NO. of ITERATIONS REACHED LIMIT.\n",
            "\n",
            "Increase the number of iterations (max_iter) or scale the data as shown in:\n",
            "    https://scikit-learn.org/stable/modules/preprocessing.html\n",
            "  self.n_iter_ = _check_optimize_result(\"lbfgs\", opt_res, self.max_iter)\n",
            "100%|██████████| 10/10 [00:06<00:00,  1.57it/s]\n",
            "100%|██████████| 10/10 [00:06<00:00,  1.45it/s]\n",
            "100%|██████████| 10/10 [00:07<00:00,  1.43it/s]\n",
            " 70%|███████   | 7/10 [00:05<00:02,  1.40it/s]/Users/mtaglio/anaconda3/lib/python3.9/site-packages/sklearn/linear_model/_huber.py:296: ConvergenceWarning: lbfgs failed to converge (status=1):\n",
            "STOP: TOTAL NO. of ITERATIONS REACHED LIMIT.\n",
            "\n",
            "Increase the number of iterations (max_iter) or scale the data as shown in:\n",
            "    https://scikit-learn.org/stable/modules/preprocessing.html\n",
            "  self.n_iter_ = _check_optimize_result(\"lbfgs\", opt_res, self.max_iter)\n",
            "100%|██████████| 10/10 [00:07<00:00,  1.38it/s]\n",
            "100%|██████████| 10/10 [00:03<00:00,  2.93it/s]\n",
            "100%|██████████| 10/10 [00:03<00:00,  2.55it/s]\n",
            "100%|██████████| 10/10 [00:04<00:00,  2.40it/s]\n",
            "100%|██████████| 10/10 [00:03<00:00,  2.71it/s]\n"
          ]
        }
      ],
      "source": [
        "percentages_to_try = [1, 5, 7, 10]\n",
        "\n",
        "# Simulaciones para Linear regression utilizando distintos % de outliers y 10 exp\n",
        "results_by_percentage_linear = perform_simulations(percentages_to_try, regression_model='LinearRegression', n_exp = 10)\n",
        "\n",
        "# Simulaciones para Huber regression utilizando distintos % de outliers y 10 exp\n",
        "results_by_percentage_huber = perform_simulations(percentages_to_try, regression_model='HuberRegressor', n_exp = 10)\n",
        "\n",
        "# Simulaciones para Ridge regression utilizando distintos % de outliers y 10 exp\n",
        "results_by_percentage_ridge = perform_simulations(percentages_to_try, regression_model='RidgeCV', n_exp = 10)\n",
        "\n"
      ]
    },
    {
      "cell_type": "code",
      "execution_count": 362,
      "id": "32edc184",
      "metadata": {},
      "outputs": [
        {
          "name": "stdout",
          "output_type": "stream",
          "text": [
            "Results for 1% outliers using HuberRegressor:\n",
            "     RMSE_train     RMSE_test     MAE_train      MAE_test\n",
            "0  6.058382e-11  6.536869e-11  4.794440e-11  5.277122e-11\n",
            "1  5.462969e+00  5.332279e+00  4.375524e+00  4.207027e+00\n",
            "2  1.122880e+01  1.194035e+01  8.808573e+00  9.445668e+00\n",
            "3  1.678617e+01  1.628614e+01  1.323843e+01  1.316556e+01\n",
            "4  2.167563e+01  2.426714e+01  1.718910e+01  1.944283e+01\n",
            "Results for 5% outliers using HuberRegressor:\n",
            "     RMSE_train     RMSE_test     MAE_train      MAE_test\n",
            "0  1.078444e-11  1.158422e-11  8.882903e-12  9.549251e-12\n",
            "1  5.750333e+00  5.312155e+00  4.554500e+00  4.261289e+00\n",
            "2  1.075055e+01  1.085864e+01  8.444377e+00  8.447017e+00\n",
            "3  1.690685e+01  1.767060e+01  1.335924e+01  1.411997e+01\n",
            "4  2.166632e+01  2.291245e+01  1.715754e+01  1.844131e+01\n",
            "Results for 7% outliers using HuberRegressor:\n",
            "     RMSE_train     RMSE_test     MAE_train      MAE_test\n",
            "0  5.266584e-12  5.394047e-12  4.162673e-12  4.459451e-12\n",
            "1  5.626265e+00  5.807742e+00  4.557797e+00  4.532278e+00\n",
            "2  1.098480e+01  1.226487e+01  8.864418e+00  9.851780e+00\n",
            "3  1.659778e+01  1.702045e+01  1.335529e+01  1.383778e+01\n",
            "4  2.217050e+01  2.311781e+01  1.769271e+01  1.809551e+01\n",
            "Results for 10% outliers using HuberRegressor:\n",
            "     RMSE_train     RMSE_test     MAE_train      MAE_test\n",
            "0  5.229974e-12  5.205403e-12  4.139650e-12  4.278854e-12\n",
            "1  5.580276e+00  5.227786e+00  4.446414e+00  4.242832e+00\n",
            "2  1.095454e+01  1.083389e+01  8.753906e+00  8.885681e+00\n",
            "3  1.744567e+01  1.605346e+01  1.393567e+01  1.291832e+01\n",
            "4  2.269734e+01  2.206186e+01  1.801792e+01  1.809562e+01\n",
            "Results for 1% outliers using LinearRegession:\n",
            "     RMSE_train     RMSE_test     MAE_train      MAE_test\n",
            "0  1.415267e-13  1.416796e-13  1.131846e-13  1.093507e-13\n",
            "1  5.516666e+00  5.470811e+00  4.470503e+00  4.264101e+00\n",
            "2  1.064650e+01  1.164601e+01  8.590169e+00  9.415452e+00\n",
            "3  1.716924e+01  1.689180e+01  1.375679e+01  1.347510e+01\n",
            "4  2.266218e+01  2.221893e+01  1.819972e+01  1.736787e+01\n",
            "Results for 5% outliers using LinearRegession:\n",
            "     RMSE_train     RMSE_test     MAE_train      MAE_test\n",
            "0  3.601015e-13  3.268753e-13  2.878987e-13  2.552614e-13\n",
            "1  5.582795e+00  5.476911e+00  4.420593e+00  4.292662e+00\n",
            "2  1.102357e+01  1.134344e+01  8.684920e+00  9.238450e+00\n",
            "3  1.704521e+01  1.590460e+01  1.357699e+01  1.266109e+01\n",
            "4  2.330835e+01  2.255644e+01  1.895743e+01  1.838799e+01\n",
            "Results for 7% outliers using LinearRegession:\n",
            "     RMSE_train     RMSE_test     MAE_train      MAE_test\n",
            "0  1.400177e-13  1.280530e-13  1.103309e-13  1.033873e-13\n",
            "1  5.751129e+00  5.544819e+00  4.592071e+00  4.434089e+00\n",
            "2  1.104745e+01  1.057294e+01  8.855615e+00  8.523878e+00\n",
            "3  1.618347e+01  1.697703e+01  1.292756e+01  1.346936e+01\n",
            "4  2.118832e+01  2.304025e+01  1.675818e+01  1.874503e+01\n",
            "Results for 10% outliers using LinearRegession:\n",
            "     RMSE_train     RMSE_test     MAE_train      MAE_test\n",
            "0  7.484088e-13  8.059023e-13  6.058943e-13  6.373879e-13\n",
            "1  5.714541e+00  5.611597e+00  4.537611e+00  4.325666e+00\n",
            "2  1.107087e+01  1.067875e+01  8.772868e+00  8.773421e+00\n",
            "3  1.668545e+01  1.756401e+01  1.329933e+01  1.383430e+01\n",
            "4  2.252875e+01  2.178767e+01  1.809315e+01  1.754756e+01\n",
            "Results for 1% outliers using Ridge CV:\n",
            "   RMSE_train  RMSE_test  MAE_train   MAE_test\n",
            "0    0.017101   0.016835   0.013716   0.013512\n",
            "1    5.497056   5.360958   4.387981   4.233674\n",
            "2   10.944091  11.596594   8.737167   9.386096\n",
            "3   16.655229  16.801442  13.267013  13.081760\n",
            "4   22.525511  22.370536  17.701481  18.195998\n",
            "Results for 5% outliers using Ridge CV:\n",
            "   RMSE_train  RMSE_test  MAE_train   MAE_test\n",
            "0    0.021374   0.021172   0.016863   0.016584\n",
            "1    5.464755   5.079283   4.401620   4.011466\n",
            "2   11.206279  11.887144   8.943343   9.775021\n",
            "3   16.469411  16.647923  13.006315  12.584964\n",
            "4   22.049596  22.339281  17.756360  18.300996\n",
            "Results for 7% outliers using Ridge CV:\n",
            "   RMSE_train  RMSE_test  MAE_train   MAE_test\n",
            "0    0.016994   0.016772   0.013624   0.013603\n",
            "1    5.700711   5.923016   4.587920   4.685463\n",
            "2   10.670174  12.259850   8.596147  10.051920\n",
            "3   16.533442  17.088031  13.233154  13.907023\n",
            "4   20.967022  23.074571  16.527358  18.405673\n",
            "Results for 10% outliers using Ridge CV:\n",
            "   RMSE_train  RMSE_test  MAE_train   MAE_test\n",
            "0    0.016262   0.016403   0.012907   0.013136\n",
            "1    5.340412   5.860652   4.223844   4.685886\n",
            "2   10.929112  11.745368   8.733460   9.260401\n",
            "3   16.721378  16.085503  13.344968  12.692544\n",
            "4   21.305421  22.943110  16.695436  18.402977\n"
          ]
        }
      ],
      "source": [
        "for percentage, results_df in results_by_percentage_huber.items():\n",
        "    print(f\"Results for {percentage}% outliers using HuberRegressor:\")\n",
        "    print(results_df.head())  # Display the first few rows of results for each percentage\n",
        "\n",
        "for percentage, results_df in results_by_percentage_linear.items():\n",
        "    print(f\"Results for {percentage}% outliers using LinearRegession:\")\n",
        "    print(results_df.head())  # Display the first few rows of results for each percentage\n",
        "\n",
        "for percentage, results_df in results_by_percentage_ridge.items():\n",
        "    print(f\"Results for {percentage}% outliers using Ridge CV:\")\n",
        "    print(results_df.head())  # Display the first few rows of results for each percentage "
      ]
    },
    {
      "cell_type": "code",
      "execution_count": 392,
      "id": "eb4e1287",
      "metadata": {},
      "outputs": [],
      "source": [
        "# funciones para extraer rmse y mae\n",
        "def extract_rmse(results_dict, model_name):\n",
        "    rmse_values = []\n",
        "    for percentage, results_df in results_dict.items():\n",
        "        rmse_values.append(results_df[f'RMSE_test'].mean())\n",
        "    return rmse_values\n",
        "\n",
        "def extract_mae(results_dict, model_name):\n",
        "    mae_values = []\n",
        "    for percentage, results_df in results_dict.items():\n",
        "        mae_values.append(results_df[f'MAE_test'].mean())\n",
        "    return mae_values\n"
      ]
    },
    {
      "cell_type": "code",
      "execution_count": 393,
      "id": "5b92025b",
      "metadata": {},
      "outputs": [],
      "source": [
        "rmse_linear = extract_rmse(results_by_percentage_linear, 'LinearRegression')\n",
        "rmse_ridge = extract_rmse(results_by_percentage_ridge, 'RidgeCV')\n",
        "rmse_huber = extract_rmse(results_by_percentage_huber, 'HuberRegressor')\n",
        "\n",
        "mae_linear = extract_mae(results_by_percentage_linear, 'LinearRegression')\n",
        "mae_ridge = extract_mae(results_by_percentage_ridge, 'RidgeCV')\n",
        "mae_huber = extract_mae(results_by_percentage_huber, 'HuberRegressor')"
      ]
    },
    {
      "cell_type": "code",
      "execution_count": 397,
      "id": "9fa79cb4",
      "metadata": {},
      "outputs": [],
      "source": [
        "def plot_metrics(rmse_values, mae_values, percentages_to_try):\n",
        "    plt.figure(figsize=(12, 5))\n",
        "\n",
        "    # Plot RMSE\n",
        "    plt.subplot(1, 2, 1)\n",
        "    plt.plot(percentages_to_try, rmse_values['LinearRegression'], marker='o', label='Linear Regression')\n",
        "    plt.plot(percentages_to_try, rmse_values['RidgeCV'], marker='o', label='RidgeCV')\n",
        "    plt.plot(percentages_to_try, rmse_values['HuberRegressor'], marker='o', label='Huber Regressor')\n",
        "    plt.xlabel('Percentage of Outliers')\n",
        "    plt.ylabel('RMSE (Mean)')\n",
        "    plt.title('RMSE across Different Percentages of Outliers for Each Model')\n",
        "    plt.legend()\n",
        "    plt.grid(True)\n",
        "\n",
        "    # Plot MAE\n",
        "    plt.subplot(1, 2, 2)\n",
        "    plt.plot(percentages_to_try, mae_values['LinearRegression'], marker='o', label='Linear Regression')\n",
        "    plt.plot(percentages_to_try, mae_values['RidgeCV'], marker='o', label='RidgeCV')\n",
        "    plt.plot(percentages_to_try, mae_values['HuberRegressor'], marker='o', label='Huber Regressor')\n",
        "    plt.xlabel('Percentage of Outliers')\n",
        "    plt.ylabel('MAE (Mean)')\n",
        "    plt.title('MAE across Different Percentages of Outliers for Each Model')\n",
        "    plt.legend()\n",
        "    plt.grid(True)\n",
        "\n",
        "    plt.tight_layout()\n",
        "    plt.show()\n"
      ]
    },
    {
      "cell_type": "code",
      "execution_count": 401,
      "id": "7ba70dc4",
      "metadata": {},
      "outputs": [
        {
          "data": {
            "image/png": "[encoded data removed]",
            "text/plain": [
              "<Figure size 864x360 with 2 Axes>"
            ]
          },
          "metadata": {
            "needs_background": "light"
          },
          "output_type": "display_data"
        }
      ],
      "source": [
        "rmse_values = {\n",
        "    'LinearRegression': rmse_linear,\n",
        "    'RidgeCV': rmse_ridge,\n",
        "    'HuberRegressor': rmse_huber\n",
        "}\n",
        "\n",
        "mae_values = {\n",
        "    'LinearRegression': mae_linear,\n",
        "    'RidgeCV': mae_ridge,\n",
        "    'HuberRegressor': mae_huber\n",
        "} \n",
        "\n",
        "percentages_to_try = [1, 5, 7, 10]\n",
        "\n",
        "plot_metrics(rmse_values, mae_values, percentages_to_try)"
      ]
    },
    {
      "cell_type": "markdown",
      "id": "48ef0f3a",
      "metadata": {},
      "source": [
        "### Conclusiones\n",
        "Para cada corrida de 10 exp se utilizaron distintos % de outliers: 1, 5, 7 y 10. Se entrenaron 3 regresores: Linear Regression, Ridge CV y Huber Regressor y se calcularon las métricas de RMSE y MAE.\n",
        "\n",
        "De acuerdo a lo observado en el gráfico, vemos que la regresión lineal muestra la mejor performance en general para los diferentes porcentajes de outliers considerados.\n",
        "\n",
        "Aunque alcanza su mejor desempeño en términos de RMSE y MAE cuando el porcentaje de outliers es del 5%, en comparación con otros porcentajes, su rendimiento es inferior. Esto sugiere que el modelo tiene una sensibilidad específica a ese nivel de outliers y no se generaliza bien a otros porcentajes.\n",
        "\n",
        "A su vez vemos que Ridge alcanza un mínimo, el mejor RMSE y MAE cuando el porcentaje de outliers es = 5. De todas maneras es el modelo que peor performa para el resto de los %.\n",
        "\n",
        "El Huber Regressor presenta mejores resultados que el Ridge, pero no alcanza el nivel de la regresión lineal en ninguno de los porcentajes de outliers considerados."
      ]
    },
    {
      "cell_type": "code",
      "execution_count": null,
      "id": "0810b32e",
      "metadata": {},
      "outputs": [],
      "source": []
    },
    {
      "cell_type": "code",
      "execution_count": null,
      "metadata": {},
      "outputs": [],
      "source": []
    },
    {
      "cell_type": "markdown",
      "id": "7effa547",
      "metadata": {},
      "source": [
        "Observamos que no parece que haya overfitting en ninguno de los 3 modelos"
      ]
    },
    {
      "cell_type": "markdown",
      "id": "be7e8c85",
      "metadata": {},
      "source": [
        "## Problema de Clasificación"
      ]
    },
    {
      "cell_type": "markdown",
      "id": "53495bd5",
      "metadata": {},
      "source": [
        "### Ejercicio 6"
      ]
    },
    {
      "cell_type": "markdown",
      "id": "e9639ca5",
      "metadata": {},
      "source": [
        "En este ejercicio vamos a jugar un poco con descenso de gradiente. Para esto consideremos lo visto en clase que es el problema de regresión.\n",
        "\n",
        "Como paso inicial, vamos a sacarnos de encima la parte teórica. Recordemos que partimos del siguiente modelo\n",
        "\n",
        "$$\n",
        "y = \\beta_0 + \\beta_1 \\cdot x\n",
        "$$\n",
        "\n",
        "En este caso nuestra función objetivo a optimizar será:\n",
        "\n",
        "$$\n",
        "MSE = ||y-\\hat{y}||^2\n",
        "$$\n"
      ]
    },
    {
      "cell_type": "markdown",
      "id": "6deb44f7",
      "metadata": {},
      "source": [
        "Para calcular el gradiente de la función de error cuadrático medio (MSE) con respecto a los parámetros $\\beta_0$ y $\\beta_1$, es útil primero expresar la función de coste de forma más explicita. Dado que $\\hat{y} = \\beta_0 + \\beta_1 \\cdot x$, podemos reescribir la función MSE como sigue:\n",
        "\n",
        "$$\n",
        "MSE(\\beta_0, \\beta_1) = \\frac{1}{N} \\sum_{i=1}^{N} (y_i - \\beta_0 - \\beta_1 \\cdot x_i)^2\n",
        "$$\n",
        "\n",
        "Aquí, $N$ es el número de observaciones en el conjunto de datos y $y_i$ y $x_i$ son el valor observado y el valor de la característica correspondiente para la i-ésima observación.\n",
        "\n",
        "El gradiente de la función de coste está compuesto por las derivadas parciales de la función de coste con respecto a cada uno de los parámetros. Así, el gradiente es un vector de la forma:\n",
        "\n",
        "$$\n",
        "\\nabla MSE(\\beta_0, \\beta_1) = \\left[ \\frac{\\partial MSE}{\\partial \\beta_0}, \\frac{\\partial MSE}{\\partial \\beta_1} \\right]\n",
        "$$\n",
        "\n",
        "Las derivadas parciales se pueden calcular como sigue:\n",
        "\n",
        "$$\n",
        "\\frac{\\partial MSE}{\\partial \\beta_0} = \\frac{-2}{N} \\sum_{i=1}^{N} (y_i - \\beta_0 - \\beta_1 \\cdot x_i)\n",
        "$$\n",
        "\n",
        "$$\n",
        "\\frac{\\partial MSE}{\\partial \\beta_1} = \\frac{-2}{N} \\sum_{i=1}^{N} x_i \\cdot (y_i - \\beta_0 - \\beta_1 \\cdot x_i)\n",
        "$$\n",
        "\n",
        "Así que finalmente tenemos:\n",
        "\n",
        "$$\n",
        "\\nabla MSE(\\beta_0, \\beta_1) = \\left[ \\frac{-2}{N} \\sum_{i=1}^{N} (y_i - \\beta_0 - \\beta_1 \\cdot x_i), \\frac{-2}{N} \\sum_{i=1}^{N} x_i \\cdot (y_i - \\beta_0 - \\beta_1 \\cdot x_i) \\right]\n",
        "$$\n",
        "\n",
        "El cálculo del gradiente se usa en el descenso de gradiente para actualizar los parámetros $\\beta_0$ y $\\beta_1$ en cada iteración, en dirección opuesta al gradiente, para minimizar la función de coste.\n",
        "\n",
        "Estos cálculos se pueden implementar en código Python de la siguiente manera:\n",
        "\n",
        "```python\n",
        "def gradient(X, y, beta0, beta1):\n",
        "    N = len(y)\n",
        "    y_hat = beta0 + beta1 * X\n",
        "\n",
        "    d_beta0 = (-2/N) * np.sum(y - y_hat)\n",
        "    d_beta1 = (-2/N) * np.sum(X * (y - y_hat))\n",
        "\n",
        "    return d_beta0, d_beta1\n",
        "```"
      ]
    },
    {
      "cell_type": "markdown",
      "id": "8ce7dee2",
      "metadata": {},
      "source": [
        "Ahora, si quisieramos realizar esto de manera matricial, podemos hacer lo siguiente:\n",
        "\n",
        "Primero, necesitamos cambiar la representación de nuestros datos. Podemos agregar un vector de unos a nuestra matriz de características para representar el término de intersección $\\beta_0$. De esta manera, $X$ toma esta forma:\n",
        "\n",
        "$$\n",
        "X = \\begin{bmatrix}\n",
        "1 & x_1 \\\\\n",
        "1 & x_2 \\\\\n",
        "\\vdots & \\vdots \\\\\n",
        "1 & x_N \\\\\n",
        "\\end{bmatrix}\n",
        "$$\n",
        "\n",
        "Y nuestro vector de parámetros $\\theta$ se verá así:\n",
        "\n",
        "$$\n",
        "\\theta = \\begin{bmatrix}\n",
        "\\beta_0 \\\\\n",
        "\\beta_1 \\\\\n",
        "\\end{bmatrix}\n",
        "$$\n",
        "\n",
        "Entonces, nuestra predicción $\\hat{y}$ se calcula como $X\\theta$:\n",
        "\n",
        "$$\n",
        "\\hat{y} = X\\theta = \\begin{bmatrix}\n",
        "1 & x_1 \\\\\n",
        "1 & x_2 \\\\\n",
        "\\vdots & \\vdots \\\\\n",
        "1 & x_N \\\\\n",
        "\\end{bmatrix} \\cdot \\begin{bmatrix}\n",
        "\\beta_0 \\\\\n",
        "\\beta_1 \\\\\n",
        "\\end{bmatrix}\n",
        "$$\n",
        "\n",
        "Nuestra función de coste MSE se ve de la siguiente manera en forma matricial:\n",
        "\n",
        "$$\n",
        "MSE(\\theta) = \\frac{1}{N} (y - X\\theta)^T (y - X\\theta)\n",
        "$$\n",
        "\n",
        "Las derivadas parciales de esta función de coste con respecto a los parámetros se pueden calcular de la siguiente manera:\n",
        "\n",
        "$$\n",
        "\\frac{\\partial MSE}{\\partial \\theta} = \\frac{-2}{N} X^T (y - X\\theta)\n",
        "$$"
      ]
    },
    {
      "cell_type": "markdown",
      "id": "4c4a59fb",
      "metadata": {},
      "source": [
        "\n",
        "Esto se puede implementar en Python de la siguiente manera:"
      ]
    },
    {
      "cell_type": "code",
      "execution_count": 292,
      "id": "b7ac568e",
      "metadata": {},
      "outputs": [],
      "source": [
        "def gradient(X: np.ndarray, y: np.ndarray, theta: np.ndarray) -> np.ndarray:\n",
        "    \"\"\"\n",
        "    Esta función calcula el gradiente de la función de coste del error cuadrático medio (MSE)\n",
        "    para una regresión lineal simple. La función toma como entrada la matriz de características X,\n",
        "    el vector de observaciones y y el vector de parámetros theta, y devuelve el gradiente, que\n",
        "    es un vector de las mismas dimensiones que theta.\n",
        "\n",
        "    Params:\n",
        "    X : numpy.ndarray\n",
        "        La matriz de características extendida que incluye un vector de unos. De tamaño (N, d),\n",
        "        donde N es el número de observaciones y d es el número de características (incluyendo el\n",
        "        término de intersección).\n",
        "\n",
        "    y : numpy.ndarray\n",
        "        El vector de observaciones. De tamaño (N,), donde N es el número de observaciones.\n",
        "\n",
        "    theta : numpy.ndarray\n",
        "        El vector de parámetros. De tamaño (d,), donde d es el número de características\n",
        "        (incluyendo el término de intersección).\n",
        "\n",
        "    Returns:\n",
        "    grad : numpy.ndarray\n",
        "        El gradiente de la función de coste. Un vector de las mismas dimensiones que theta.\n",
        "\n",
        "    Examples:\n",
        "    >>> X = np.array([[1, 1], [1, 2], [1, 3]])\n",
        "    >>> y = np.array([2, 3, 4])\n",
        "    >>> theta = np.array([0, 0])\n",
        "    >>> gradient(X, y, theta)\n",
        "    array([-4., -8.])\n",
        "    \"\"\"\n",
        "    N = len(y)\n",
        "    y_hat = X.dot(theta)\n",
        "\n",
        "    grad = (-2 / N) * X.T.dot(y - y_hat)\n",
        "\n",
        "    return grad"
      ]
    },
    {
      "cell_type": "markdown",
      "id": "e1ef2b1d",
      "metadata": {},
      "source": [
        "\n",
        "Aquí, `X` es la matriz de características extendida que incluye un vector de unos, `y` es el vector de observaciones, y `theta` es el vector de parámetros. La función devuelve el gradiente, que es un vector de las mismas dimensiones que `theta`."
      ]
    },
    {
      "cell_type": "markdown",
      "id": "0885fd5a",
      "metadata": {},
      "source": [
        "#### Gradiente Descendente"
      ]
    },
    {
      "cell_type": "markdown",
      "id": "91e4a496",
      "metadata": {},
      "source": [
        "Ahora que sabemos calcular el gradiente, vamos a:\n",
        "\n",
        "1. Crear una función _GD_ que compute el gradiente descendente. Debe tener condición de frenado\n",
        "por nr de épocas pero también por tolerancia.\n",
        "2. Generamos un dataset (con _generate_dataset_ de los ejercicios anteriores, utilizando un bias conocido y solo 1 feature)\n",
        "3. Inicializamos un vector $(\\beta_0, \\beta_1)$ al azar.\n",
        "4. Tratamos de calcular los mejores parámetros con el algoritmo.\n",
        "5. Guardamos la función de perdida en train y test en cada época."
      ]
    },
    {
      "cell_type": "code",
      "execution_count": 309,
      "id": "e2a249e1",
      "metadata": {},
      "outputs": [],
      "source": [
        "# 1. C1. Crear una función _GD_ que compute el gradiente descendente. Debe tener condición de frenado por nr de épocas pero también por tolerancia.\n",
        "def GD(X_train, y_train, X_test, y_test, initial_theta, learning_rate, max_epochs=100, tolerance=1e-5):\n",
        "    theta = initial_theta.copy()\n",
        "    train_loss = []\n",
        "    test_loss = []\n",
        "\n",
        "    for epoch in range(max_epochs):\n",
        "        # Computo gradientes\n",
        "        grad = gradient(X_train, y_train, theta)\n",
        "\n",
        "        # actualizo parametros con gd\n",
        "        theta -= learning_rate * grad\n",
        "\n",
        "        # Calculo losses\n",
        "        train_pred = X_train.dot(theta)\n",
        "        train_mse = np.mean((y_train - train_pred) ** 2)\n",
        "        train_loss.append(train_mse)\n",
        "\n",
        "        test_pred = X_test.dot(theta)\n",
        "        test_mse = np.mean((y_test - test_pred) ** 2)\n",
        "        test_loss.append(test_mse)\n",
        "\n",
        "        # chequear que se cumpla la condicion de frenado por tolerancia\n",
        "        if epoch > 0 and abs(train_loss[-1] - train_loss[-2]) < tolerance:\n",
        "            break\n",
        "\n",
        "    return train_loss, test_loss, theta\n"
      ]
    },
    {
      "cell_type": "code",
      "execution_count": 310,
      "id": "e867284e",
      "metadata": {},
      "outputs": [],
      "source": [
        "# 2. Generamos un dataset (con _generate_dataset_ de los ejercicios anteriores, utilizando un bias conocido y solo 1 feature)\n",
        "data = generate_dataset(n_samples=1000,\n",
        "                    n_features=1,\n",
        "                    n_informative=1,\n",
        "                    n_targets=1,\n",
        "                    bias = 5,\n",
        "                    random_state=42,\n",
        "                    output='dataframe')\n",
        "\n",
        "X = data.drop('target', axis=1)\n",
        "y = data['target']\n",
        "X_train, X_test, y_train, y_test = train_test_split(X, y, test_size=0.2)\n",
        "# print(\"Shapes - X_train:\", X_train.shape, \"y_train:\", y_train.shape, \"X_test:\", X_test.shape, \"y_test:\", y_test.shape)\n",
        "\n",
        "\n",
        "X_train = X_train.values.reshape(-1, 1)\n",
        "y_train = y_train.values.ravel()\n"
      ]
    },
    {
      "cell_type": "code",
      "execution_count": 311,
      "id": "d675279f",
      "metadata": {},
      "outputs": [],
      "source": [
        "# 3. Inicializamos un vector $(\\beta_0, \\beta_1)$ al azar.\n",
        "initial_theta = np.random.rand(X_train.shape[1])"
      ]
    },
    {
      "cell_type": "code",
      "execution_count": 312,
      "id": "2642dc53",
      "metadata": {},
      "outputs": [],
      "source": [
        "# 4. Tratamos de calcular los mejores parámetros con el algoritmo.\n",
        "learning_rate = 0.0001\n",
        "max_epochs = 100\n",
        "tolerance = 1e-5\n",
        "gd_train_loss, gd_test_loss, optimized_theta = GD(X_train, y_train, X_test, y_test, initial_theta, learning_rate, max_epochs, tolerance)"
      ]
    },
    {
      "cell_type": "code",
      "execution_count": 314,
      "id": "6bf5fea5",
      "metadata": {},
      "outputs": [
        {
          "name": "stdout",
          "output_type": "stream",
          "text": [
            "Final optimized parameters: [1.14216396]\n",
            "Train Loss: [372.5404363268739, 372.44744963503575, 372.3544984793228, 372.2615828461546, 372.16870272195564, 372.0758580931557, 371.98304894618997, 371.89027526749817, 371.79753704352584, 371.7048342607235, 371.6121669055468, 371.51953496445657, 371.4269384239188, 371.3343772704048, 371.24185149039084, 371.14936107035845, 371.05690599679446, 370.9644862561905, 370.87210183504396, 370.7797527198566, 370.6874388971362, 370.5951603533949, 370.5029170751506, 370.410709048926, 370.3185362612491, 370.226398698653, 370.1342963476759, 370.04222919486136, 369.9501972267577, 369.8582004299189, 369.76623879090357, 369.6743122962756, 369.5824209326043, 369.49056468646376, 369.39874354443344, 369.30695749309774, 369.21520651904626, 369.12349060887385, 369.03180974918024, 368.9401639265705, 368.8485531276547, 368.75697733904815, 368.6654365473711, 368.57393073924896, 368.4824599013124, 368.39102402019694, 368.2996230825436, 368.20825707499785, 368.1169259842111, 368.02562979683927, 367.9343684995435, 367.8431420789902, 367.7519505218506, 367.6607938148012, 367.56967194452375, 367.4785848977047, 367.3875326610358, 367.296515221214, 367.2055325649411, 367.11458467892425, 367.0236715498753, 366.9327931645116, 366.84194950955526, 366.7511405717337, 366.6603663377791, 366.56962679442915, 366.47892192842613, 366.38825172651786, 366.29761617545677, 366.20701526200065, 366.11644897291234, 366.02591729495964, 365.9354202149154, 365.8449577195575, 365.754529795669, 365.66413643003796, 365.57377760945747, 365.4834533207257, 365.3931635506457, 365.3029082860258, 365.21268751367927, 365.12250122042445, 365.03234939308464, 364.9422320184882, 364.8521490834686, 364.7621005748643, 364.6720864795186, 364.5821067842803, 364.4921614760028, 364.4022505415446, 364.31237396776925, 364.2225317415455, 364.1327238497469, 364.042950279252, 363.9532110169446, 363.8635060497132, 363.77383536445154, 363.6841989480584, 363.59459678743735, 363.50502886949704]\n",
            "Test Loss: [337.2849922240086, 337.19256606976904, 337.10017560285183, 337.00782080954855, 336.9155016761561, 336.8232181889772, 336.7309703343193, 336.6387580984946, 336.5465814678215, 336.4544404286236, 336.3623349672292, 336.27026506997186, 336.17823072319067, 336.0862319132295, 335.99426862643827, 335.9023408491714, 335.81044856778897, 335.7185917686562, 335.626770438143, 335.53498456262474, 335.44323412848314, 335.35151912210335, 335.2598395298771, 335.1681953382009, 335.07658653347573, 334.985013102109, 334.8934750305127, 334.80197230510385, 334.7105049123056, 334.6190728385447, 334.52767607025476, 334.43631459387353, 334.3449883958441, 334.2536974626154, 334.1624417806411, 334.07122133637955, 333.9800361162953, 333.888886106857, 333.7977712945392, 333.70669166582223, 333.6156472071902, 333.52463790513275, 333.43366374614584, 333.3427247167294, 333.2518208033889, 333.1609519926348, 333.0701182709828, 332.97931962495454, 332.88855604107533, 332.7978275058772, 332.70713400589636, 332.6164755276745, 332.5258520577581, 332.43526358269924, 332.34471008905507, 332.2541915633881, 332.16370799226513, 332.073259362259, 331.9828456599472, 331.8924668719132, 331.8021229847444, 331.71181398503364, 331.62153985937954, 331.53130059438575, 331.44109617666044, 331.35092659281725, 331.2607918294749, 331.1706918732573, 331.0806267107936, 330.9905963287175, 330.9006007136691, 330.8106398522921, 330.72071373123623, 330.63082233715596, 330.54096565671165, 330.4511436765666, 330.36135638339255, 330.27160376386354, 330.1818858046599, 330.0922024924672, 330.0025538139752, 329.9129397558801, 329.82336030488193, 329.73381544768637, 329.64430517100413, 329.5548294615517, 329.4653883060493, 329.37598169122305, 329.28660960380444, 329.19727203052935, 329.1079689581389, 329.01870037338006, 328.9294662630037, 328.84026661376635, 328.7511014124297, 328.66197064576045, 328.57287430053054, 328.4838123635165, 328.3947848215, 328.30579166126836]\n"
          ]
        }
      ],
      "source": [
        "# 5. Guardamos la función de perdida en train y test en cada época.\n",
        "print(\"Final optimized parameters:\", optimized_theta)\n",
        "print(\"Train Loss:\", gd_train_loss)\n",
        "print(\"Test Loss:\", gd_test_loss)"
      ]
    },
    {
      "cell_type": "markdown",
      "id": "0e02fba8",
      "metadata": {},
      "source": [
        "#### Gradiente Descendente Estocástico"
      ]
    },
    {
      "cell_type": "markdown",
      "id": "f767cd27",
      "metadata": {},
      "source": [
        "Ahora que sabemos calcular el gradiente, vamos a:\n",
        "\n",
        "1. Crear una función _SGD_ que compute el gradiente descendente estocástico.\n",
        "2. Generamos un dataset (con _generate_dataset_ de los ejercicios anteriores, utilizando un bias conocido y solo 1 feature)\n",
        "3. Inicializamos un vector $(\\beta_0, \\beta_1)$ al azar.\n",
        "4. Tratamos de calcular los mejores parámetros con el algoritmo.\n",
        "5. Guardamos la función de perdida en train y test en cada época."
      ]
    },
    {
      "cell_type": "code",
      "execution_count": 315,
      "id": "0e80946d",
      "metadata": {},
      "outputs": [],
      "source": [
        "# 1. Crear una función _SGD_ que compute el gradiente descendente estocástico.\n",
        "def SGD(X_train, y_train, X_test, y_test, initial_theta, learning_rate, max_epochs=100, tolerance=1e-5, batch_size=1):\n",
        "    theta = initial_theta.copy()\n",
        "    train_loss = []\n",
        "    test_loss = []\n",
        "\n",
        "    for epoch in range(max_epochs):\n",
        "\n",
        "        indices = np.random.permutation(len(X_train))\n",
        "        X_train_shuffled = X_train[indices]\n",
        "        y_train_shuffled = y_train[indices]\n",
        "\n",
        "        for i in range(0, len(X_train), batch_size):\n",
        "            if i + batch_size <= len(X_train):\n",
        "                X_batch = X_train_shuffled[i:i+batch_size]\n",
        "                y_batch = y_train_shuffled[i:i+batch_size]\n",
        "            else:\n",
        "                X_batch = X_train_shuffled[i:]\n",
        "                y_batch = y_train_shuffled[i:]\n",
        "\n",
        "            grad = gradient(X_batch, y_batch, theta)\n",
        "\n",
        "            # actualizo params usando sgd\n",
        "            theta -= learning_rate * grad\n",
        "\n",
        "        # Calculo losses para cada epoch\n",
        "        train_pred = X_train.dot(theta)\n",
        "        train_mse = np.mean((y_train - train_pred) ** 2)\n",
        "        train_loss.append(train_mse)\n",
        "\n",
        "        test_pred = X_test.dot(theta)\n",
        "        test_mse = np.mean((y_test - test_pred) ** 2)\n",
        "        test_loss.append(test_mse)\n",
        "\n",
        "        # condicion de frenado\n",
        "        if epoch > 0 and abs(train_loss[-1] - train_loss[-2]) < tolerance:\n",
        "            break\n",
        "\n",
        "    return train_loss, test_loss, theta\n"
      ]
    },
    {
      "cell_type": "code",
      "execution_count": 316,
      "id": "34060e38",
      "metadata": {},
      "outputs": [
        {
          "name": "stdout",
          "output_type": "stream",
          "text": [
            "Shapes - X_train: (800, 1) y_train: (800,) X_test: (200, 1) y_test: (200,)\n"
          ]
        }
      ],
      "source": [
        "# 2. Generamos un dataset (con _generate_dataset_ de los ejercicios anteriores, utilizando un bias conocido y solo 1 feature)\n",
        "data = generate_dataset(n_samples=1000,\n",
        "                    n_features=1,\n",
        "                    n_informative=1,\n",
        "                    n_targets=1,\n",
        "                    bias = 5,\n",
        "                    random_state=42,\n",
        "                    output='dataframe')\n",
        "\n",
        "X = data.drop('target', axis=1)\n",
        "y = data['target']\n",
        "X_train, X_test, y_train, y_test = train_test_split(X, y, test_size=0.2)\n",
        "\n",
        "print(\"Shapes - X_train:\", X_train.shape, \"y_train:\", y_train.shape, \"X_test:\", X_test.shape, \"y_test:\", y_test.shape)\n",
        "\n",
        "X_train = X_train.values.reshape(-1, 1)\n",
        "y_train = y_train.values.ravel()\n"
      ]
    },
    {
      "cell_type": "code",
      "execution_count": 318,
      "id": "289cee18",
      "metadata": {},
      "outputs": [],
      "source": [
        "# 3. Inicializamos un vector $(\\beta_0, \\beta_1)$ al azar.\n",
        "initial_theta = np.random.rand(X_train.shape[1])"
      ]
    },
    {
      "cell_type": "code",
      "execution_count": 319,
      "id": "fc586dc9",
      "metadata": {},
      "outputs": [],
      "source": [
        "# 4. Tratamos de calcular los mejores parámetros con el algoritmo.\n",
        "learning_rate = 0.0001\n",
        "max_epochs = 100\n",
        "tolerance = 1e-5\n",
        "batch_size = 2\n",
        "sgd_train_loss, sgd_test_loss, optimized_theta = SGD(X_train, y_train, X_test, y_test, initial_theta, learning_rate, max_epochs, tolerance, batch_size)"
      ]
    },
    {
      "cell_type": "code",
      "execution_count": 320,
      "id": "d28b6fb1",
      "metadata": {},
      "outputs": [
        {
          "name": "stdout",
          "output_type": "stream",
          "text": [
            "Final optimized parameters: [16.95941739]\n",
            "Train Loss: [334.58411972976586, 305.7775015231143, 280.9370976440968, 259.4887032651799, 240.9805890772267, 224.9910645344376, 211.22119708150632, 199.2960324449488, 189.0312210765824, 180.17617162730167, 172.5155076556534, 165.89502702731872, 160.19559444203244, 155.2647891668239, 151.01962943214286, 147.3509291861292, 144.18677875689266, 141.45472045270998, 139.09531099122287, 137.0640839610147, 135.30902354109844, 133.80305242744416, 132.49740510171551, 131.36988160459282, 130.3971059375988, 129.55595575994877, 128.8341409567696, 128.20874665550508, 127.66361946253717, 127.19634658556477, 126.78891183226675, 126.44417572507264, 126.14545129484017, 125.88897464857672, 125.66596316799037, 125.47397550061505, 125.30679663111579, 125.16339386093463, 125.0388450373151, 124.93018982945924, 124.83724365296857, 124.75707442804476, 124.68798497013864, 124.62857665994967, 124.5772190557038, 124.53289990336121, 124.49485056725338, 124.46297902618939, 124.43420125415874, 124.4104343873768, 124.38952749486393, 124.37102305525052, 124.35512780247025, 124.34178008184881, 124.33051691348723, 124.32054764874334, 124.31130482354091, 124.30406401734172, 124.29802912680272, 124.29225354567639, 124.28764177757748, 124.28392563756846, 124.28025628955888, 124.2773108502572, 124.27479468964131, 124.27266573271892, 124.2704320388227, 124.26854674849496, 124.26727470977866, 124.26600008511028, 124.26484086062952, 124.26396227469353, 124.26319933009907, 124.26245177618705, 124.26182303869365, 124.2613322745624, 124.26081610870878, 124.26040457920688, 124.26015321183466, 124.2598961613065, 124.25968458292013, 124.25942336312677, 124.25927069088252, 124.25913249970155, 124.25899133909945, 124.25886099648757, 124.2587393892827, 124.25859567016647, 124.25855323631164, 124.25845785776399, 124.25842783138428, 124.25831357070295, 124.25828979029986, 124.25828534624641]\n",
            "Test Loss: [339.3510671727194, 307.07347711520316, 279.40393973410823, 255.66505805435406, 235.32194091361006, 217.87874034500365, 202.97892810941553, 190.18890781563002, 179.28506898952625, 169.97647059746512, 162.01448833882935, 155.2184712295492, 149.44654327638983, 144.52623607063845, 140.35798467026555, 136.81885505645494, 133.82507142819037, 131.29459670142603, 129.15996187138765, 127.36918720998015, 125.86551986170741, 124.61546708370061, 123.56916299249437, 122.7005049693617, 121.98347807146008, 121.39365638372556, 120.91533779034917, 120.52681648035781, 120.21262704756846, 119.9659461997642, 119.77216068937877, 119.62754473952629, 119.52012759386014, 119.44441817470911, 119.39404193196397, 119.36502002680676, 119.35323068433236, 119.35558875153997, 119.36929771151415, 119.39231557854, 119.42222919655842, 119.4575024807512, 119.49670027036825, 119.53854951520505, 119.58231582638753, 119.6271579223815, 119.67219608789686, 119.71572559139871, 119.76070698451213, 119.80291947762251, 119.84478032483362, 119.8864394134489, 119.92655259833022, 119.96410841583598, 119.99923215044888, 120.03358767870611, 120.06887396138126, 120.099413364421, 120.12729799904247, 120.1565660683979, 120.18219617772394, 120.2046637635234, 120.22881958161236, 120.24996507398482, 120.26956736799241, 120.28751722501366, 120.30802405728022, 120.32701393349298, 120.34092138093791, 120.35596029988828, 120.37082711007704, 120.38303625980454, 120.39445554383268, 120.4065570325392, 120.41760775905863, 120.42692560235565, 120.43754819213746, 120.44677824349303, 120.45282958452252, 120.45941301528164, 120.46518982249064, 120.47286936865912, 120.47769955181619, 120.48233681346866, 120.48738500378468, 120.4923849957773, 120.49741195632167, 120.50393145578268, 120.50600581656094, 120.5109836214896, 120.51265701140868, 120.51963736658823, 120.52124267556742, 120.52154982980049]\n"
          ]
        }
      ],
      "source": [
        "# 5. Guardamos la función de perdida en train y test en cada época.\n",
        " # Store the loss function for train and test at each epoch\n",
        "print(\"Final optimized parameters:\", optimized_theta)\n",
        "print(\"Train Loss:\", sgd_train_loss)\n",
        "print(\"Test Loss:\", sgd_test_loss)"
      ]
    },
    {
      "cell_type": "code",
      "execution_count": 321,
      "id": "77e7828d",
      "metadata": {},
      "outputs": [
        {
          "data": {
            "image/png": "[encoded data removed]",
            "text/plain": [
              "<Figure size 720x432 with 1 Axes>"
            ]
          },
          "metadata": {
            "needs_background": "light"
          },
          "output_type": "display_data"
        }
      ],
      "source": [
        "# Loss vs Epoch\n",
        "plt.figure(figsize=(10, 6))\n",
        "epochs_gd = range(len(gd_train_loss))\n",
        "epochs_sgd = range(len(sgd_train_loss))\n",
        "\n",
        "#plt.plot(epochs_gd, gd_train_loss, label='GD Train Loss', color='blue')\n",
        "plt.plot(epochs_gd, gd_test_loss, label='GD Test Loss', color='skyblue')\n",
        "#plt.plot(epochs_sgd, sgd_train_loss, label='SGD Train Loss', color='red')\n",
        "plt.plot(epochs_sgd, sgd_test_loss, label='SGD Test Loss', color='salmon')\n",
        "\n",
        "plt.title('Loss vs Epoch')\n",
        "plt.xlabel('Epoch')\n",
        "plt.ylabel('Loss')\n",
        "plt.legend()\n",
        "plt.grid(True)\n",
        "plt.show()"
      ]
    },
    {
      "cell_type": "markdown",
      "id": "e4c183e0",
      "metadata": {},
      "source": [
        "Analice:\n",
        "\n",
        "1. Cómo se comportan estos algoritmos? se puede ver la diferencia entre SGD y GD?.\n",
        "2. Cómo afecto el _learning rate_ a estos algoritmos? Realice una simulación del mismo cambiando el `lr`.\n",
        "3. Compare en una curva de Perdida vs Epoch los dos algoritmos. Nota algo interesante?"
      ]
    },
    {
      "cell_type": "markdown",
      "id": "195514a7",
      "metadata": {},
      "source": [
        "1. Con un learning rate = 0.1, lo que se ve a partir de las losses es que GD performa mejor, para la misma cantidad de epochs, la loss disminuye mucho más que utilizando SGD. También se observa que la loss con GD arranca en un valor mucho más alto pero converge más rápido, mientras que con SGD si bien arranca en un valor más bajo, no converge y tiene varias fluctuaciones, o sea no es estable.\n",
        "\n",
        "En cambio, probando con un learning rate más bajo = 0.01, observamos que la loss con SGD converge mucho más rápido y es relativamente estable. Se ve que al utilizar un lr más bajo SGD hace una búsqueda más precisa en el espacio de parámetros y esto le permite navegar más cerca de la solución óptima.  En definitiva, se reducen o mehjor dicho se suavizan las fluctuaciones. \n",
        "\n",
        "Utilizando una lr aun más bajo = 0.0001 es aun más conveniente para SGD que para GD, se suavizan aun más las fluctuaciones y converge más rápido al mínimo local."
      ]
    },
    {
      "cell_type": "markdown",
      "id": "7686a399",
      "metadata": {},
      "source": [
        "### Ejercicio 7"
      ]
    },
    {
      "cell_type": "markdown",
      "id": "7a07e7e1",
      "metadata": {},
      "source": [
        "En este ejercicio vamos a considerar la regresión logística como un problema de clasificación binaria.\n",
        "La implementación de la misma podemos considerar la siguiente:\n",
        "\n",
        "```python\n",
        "\n",
        "class LogisticRegressionSGD():\n",
        "    def __init__(self, lr=0.01, max_iter=1000, tol=1e-3, random_state=42):\n",
        "        self.lr = lr\n",
        "        self.max_iter = max_iter\n",
        "        self.tol = tol\n",
        "        self.random_state = random_state\n",
        "        self.weights = None\n",
        "        self.loss = None\n",
        "        self.loss_history = None\n",
        "        self.grad_history = None\n",
        "        self.theta_history = None\n",
        "\n",
        "    def fit(self, X, y):\n",
        "        \"\"\"\n",
        "        Fit the model according to the given training data.\n",
        "\n",
        "        Params:\n",
        "        X : numpy.ndarray\n",
        "            The training input samples. A 2D array of shape (n_samples, n_features).\n",
        "\n",
        "        y : numpy.ndarray\n",
        "            The target values. An array of shape (n_samples,).\n",
        "\n",
        "        Returns:\n",
        "        self : LogisticRegressionSGD\n",
        "            The fitted model.\n",
        "        \"\"\"\n",
        "        np.random.seed(self.random_state)\n",
        "        self.weights = np.random.normal(size=X.shape[1])\n",
        "        self.loss_history = []\n",
        "        self.grad_history = []\n",
        "        self.theta_history = []\n",
        "\n",
        "        self.SGD(X, y)\n",
        "\n",
        "        return self\n",
        "\n",
        "    def _step(self, X, y):\n",
        "        \"\"\"\n",
        "        Perform a single gradient step.\n",
        "\n",
        "        Params:\n",
        "        X : numpy.ndarray\n",
        "            The training input samples. A 2D array of shape (n_samples, n_features).\n",
        "\n",
        "        y : numpy.ndarray\n",
        "            The target values. An array of shape (n_samples,).\n",
        "\n",
        "        Returns:\n",
        "        loss : float\n",
        "            The value of the loss function for the current value of the weights.\n",
        "\n",
        "        grad : numpy.ndarray\n",
        "            The gradient of the loss function for the current value of the weights.\n",
        "        \"\"\"\n",
        "        N = len(y)\n",
        "        y_hat = self.logit(X)\n",
        "        loss = -np.mean(y * np.log(y_hat) + (1 - y) * np.log(1 - y_hat))\n",
        "        grad = (-1 / N) * X.T.dot(y - y_hat)\n",
        "\n",
        "        return loss, grad\n",
        "\n",
        "    def SGD(self, X, y):\n",
        "        \"\"\"\n",
        "        Perform the stochastic gradient descent optimization algorithm.\n",
        "\n",
        "        Params:\n",
        "        X : numpy.ndarray\n",
        "            The training input samples. A 2D array of shape (n_samples, n_features).\n",
        "\n",
        "        y : numpy.ndarray\n",
        "            The target values. An array of shape (n_samples,).\n",
        "        \"\"\"\n",
        "        for epoch in range(self.max_iter):\n",
        "        prev_weights = self.weights.copy()\n",
        "        prev_loss = self._step(X, y)\n",
        "\n",
        "        self.weights -= self.lr * prev_loss[1]\n",
        "\n",
        "        self.loss_history.append(prev_loss[0])\n",
        "        self.grad_history.append(prev_loss[1])\n",
        "        self.theta_history.append(prev_weights)\n",
        "\n",
        "        # importante la convergencia para que no actualice innecesariamente los pesos\n",
        "        if np.linalg.norm(self.weights - prev_weights) < self.tol:\n",
        "            break\n",
        "\n",
        "    def logit(self, X):\n",
        "        \"\"\"\n",
        "        Calculate the logit of a set of observations.\n",
        "\n",
        "        Params:\n",
        "        X : numpy.ndarray\n",
        "            The training input samples. A 2D array of shape (n_samples, n_features).\n",
        "\n",
        "        Returns:\n",
        "        logit : numpy.ndarray\n",
        "            The logit of the observations. An array of shape (n_samples,).\n",
        "        \"\"\"\n",
        "        return 1 / (1 + np.exp(-X.dot(self.weights)))\n",
        "    \n",
        "    def predict_proba(self, X):\n",
        "        \"\"\"\n",
        "        Predict the probability of each class for a set of observations.\n",
        "\n",
        "        Params:\n",
        "        X : numpy.ndarray\n",
        "            The training input samples. A 2D array of shape (n_samples, n_features).\n",
        "\n",
        "        Returns:\n",
        "        proba : numpy.ndarray\n",
        "            The predicted probability of each class. An array of shape (n_samples,).\n",
        "        \"\"\"\n",
        "        return self.logit(X)\n",
        "    \n",
        "    def predict(self, X):\n",
        "        \"\"\"\n",
        "        Predict the class of a set of observations.\n",
        "\n",
        "        Params:\n",
        "        X : numpy.ndarray\n",
        "            The training input samples. A 2D array of shape (n_samples, n_features).\n",
        "\n",
        "        Returns:\n",
        "        y_pred : numpy.ndarray\n",
        "            The predicted class. An array of shape (n_samples,).\n",
        "        \"\"\"\n",
        "        return (self.predict_proba(X) >= 0.5).astype(int)\n",
        "    \n",
        "    def score(self, X, y):\n",
        "        \"\"\"\n",
        "        Calculate the accuracy of the model.\n",
        "\n",
        "        Params:\n",
        "        X : numpy.ndarray\n",
        "            The training input samples. A 2D array of shape (n_samples, n_features).\n",
        "\n",
        "        y : numpy.ndarray\n",
        "            The target values. An array of shape (n_samples,).\n",
        "\n",
        "        Returns:\n",
        "        score : float\n",
        "            The accuracy of the model.\n",
        "        \"\"\"\n",
        "        return np.mean(self.predict(X) == y)\n",
        "\n",
        "```"
      ]
    },
    {
      "cell_type": "markdown",
      "metadata": {},
      "source": [
        "Con esta clase, vamos a tomar el dataset de breast cancer y vamos a realizar una clasificación binaria.\n",
        "La idea de este ejercicio es que puedan jugar con la manera de obtener los hiperparámetros óptimos para el modelo.\n",
        "\n",
        "Para ello van a tener que completar el método `SGD` de la clase `LogisticRegressionSGD` y luego realizar una búsqueda de grilla para encontrar los mejores hiperparámetros."
      ]
    },
    {
      "cell_type": "code",
      "execution_count": null,
      "id": "ddc71d51",
      "metadata": {},
      "outputs": [],
      "source": [
        "from sklearn.datasets import load_breast_cancer\n",
        "from sklearn.model_selection import train_test_split, GridSearchCV\n",
        "\n",
        "X,y = load_breast_cancer(return_X_y=True)\n",
        "\n",
        "X_train, X_test, y_train, y_test = train_test_split(X,y, test_size=0.2, random_state=42)\n",
        "\n",
        "param_grid = {\n",
        "    'lr': [0.001, 0.01, 0.1], \n",
        "    'max_iter': [1000, 2000],  \n",
        "    'tol': [1e-3, 1e-4]  \n",
        "}\n",
        "\n",
        "model = LogisticRegressionSGD()\n",
        "\n",
        "# realizo grid search\n",
        "grid_search = GridSearchCV(estimator=model, param_grid=param_grid, cv=5, scoring='accuracy', n_jobs=-1)\n",
        "grid_search.fit(X_train, y_train)\n",
        "\n",
        "# mejores hiperparametros\n",
        "best_params = grid_search.best_params_\n",
        "best_score = grid_search.best_score_\n",
        "\n",
        "print(\"Best Hyperparameters:\", best_params)\n",
        "print(\"Best Accuracy:\", best_score)"
      ]
    },
    {
      "cell_type": "code",
      "execution_count": null,
      "metadata": {},
      "outputs": [],
      "source": [
        "best_model = grid_search.best_estimator_\n",
        "test_accuracy = best_model.score(X_test, y_test)\n",
        "print(\"Test Accuracy:\", test_accuracy)"
      ]
    }
  ],
  "metadata": {
    "colab": {
      "collapsed_sections": [],
      "name": "Practica_clase_3.ipynb",
      "provenance": []
    },
    "kernelspec": {
      "display_name": "Python 3.10.7 64-bit",
      "language": "python",
      "name": "python3"
    },
    "language_info": {
      "codemirror_mode": {
        "name": "ipython",
        "version": 3
      },
      "file_extension": ".py",
      "mimetype": "text/x-python",
      "name": "python",
      "nbconvert_exporter": "python",
      "pygments_lexer": "ipython3",
      "version": "3.9.18"
    },
    "vscode": {
      "interpreter": {
        "hash": "b5c22da4a52024410f64f9c5a5e2b4ffeeb944a5ed00e8825a42174cdab30315"
      }
    }
  },
  "nbformat": 4,
  "nbformat_minor": 5
}
